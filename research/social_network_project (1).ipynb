{
  "nbformat": 4,
  "nbformat_minor": 0,
  "metadata": {
    "colab": {
      "name": "social_network_project.ipynb",
      "provenance": [],
      "collapsed_sections": []
    },
    "kernelspec": {
      "name": "python3",
      "display_name": "Python 3"
    },
    "language_info": {
      "name": "python"
    }
  },
  "cells": [
    {
      "cell_type": "code",
      "execution_count": 1,
      "metadata": {
        "id": "6jDsvCvdf3Bm"
      },
      "outputs": [],
      "source": [
        "import pandas as pd\n",
        "import numpy as np\n",
        "import networkx as nx\n",
        "from ast import literal_eval"
      ]
    },
    {
      "cell_type": "markdown",
      "source": [
        "# Build graph of persons dependency based on coocurrencies"
      ],
      "metadata": {
        "id": "XyR8w-4UXHAX"
      }
    },
    {
      "cell_type": "code",
      "source": [
        "df_corpus = pd.read_csv('persons_wiki.csv', index_col=0, header = 0, names=['article_id','category', 'text','wiki_id', 'person'])\n",
        "df_corpus.person = df_corpus.person.apply(literal_eval)\n",
        "df_corpus = df_corpus.drop(columns = ['wiki_id'])\n",
        "#df_corpus = pd.read_csv('persons_.csv', index_col=0, header = 0, names=['article_id','category', 'text', 'person'])\n",
        "#df = pd.read_csv('persons_large.csv', index_col=None, header = 0, names=['article_id', 'text', 'person'])\n",
        "df_corpus.head()"
      ],
      "metadata": {
        "colab": {
          "base_uri": "https://localhost:8080/",
          "height": 237
        },
        "id": "F2LCWhRBPjPN",
        "outputId": "4958652f-dceb-4c0b-aa83-d746e25a36e7"
      },
      "execution_count": 276,
      "outputs": [
        {
          "output_type": "execute_result",
          "data": {
            "text/plain": [
              "            category                                               text  \\\n",
              "article_id                                                                \n",
              "0           politics  МОСКВА, 27 мая — РИА Новости. Депутат Госдумы ...   \n",
              "1           politics  МОСКВА, 26 мая - РИА Новости. \"Западным друзья...   \n",
              "2           politics  МОСКВА, 26 мая/ Радио Sputnik. Канцлер Германи...   \n",
              "3           politics  МОСКВА, 26 мая - РИА Новости. У России есть пл...   \n",
              "4           politics  МОСКВА, 26 мая - РИА Новости. В основе работы ...   \n",
              "\n",
              "                                                       person  \n",
              "article_id                                                     \n",
              "0           [Вячеслав Викторович Володин, Аршба Отари Ионо...  \n",
              "1                                  [Сергей Викторович Лавров]  \n",
              "2           [Владимир Андреевич Пучков, Дмитрий Анатольеви...  \n",
              "3           [Кабус бен Саид, Николай Павлович Лавёров, Сер...  \n",
              "4                               [Вячеслав Викторович Володин]  "
            ],
            "text/html": [
              "\n",
              "  <div id=\"df-33222ec6-cc12-4c1e-a99e-cc0b31dcf13a\">\n",
              "    <div class=\"colab-df-container\">\n",
              "      <div>\n",
              "<style scoped>\n",
              "    .dataframe tbody tr th:only-of-type {\n",
              "        vertical-align: middle;\n",
              "    }\n",
              "\n",
              "    .dataframe tbody tr th {\n",
              "        vertical-align: top;\n",
              "    }\n",
              "\n",
              "    .dataframe thead th {\n",
              "        text-align: right;\n",
              "    }\n",
              "</style>\n",
              "<table border=\"1\" class=\"dataframe\">\n",
              "  <thead>\n",
              "    <tr style=\"text-align: right;\">\n",
              "      <th></th>\n",
              "      <th>category</th>\n",
              "      <th>text</th>\n",
              "      <th>person</th>\n",
              "    </tr>\n",
              "    <tr>\n",
              "      <th>article_id</th>\n",
              "      <th></th>\n",
              "      <th></th>\n",
              "      <th></th>\n",
              "    </tr>\n",
              "  </thead>\n",
              "  <tbody>\n",
              "    <tr>\n",
              "      <th>0</th>\n",
              "      <td>politics</td>\n",
              "      <td>МОСКВА, 27 мая — РИА Новости. Депутат Госдумы ...</td>\n",
              "      <td>[Вячеслав Викторович Володин, Аршба Отари Ионо...</td>\n",
              "    </tr>\n",
              "    <tr>\n",
              "      <th>1</th>\n",
              "      <td>politics</td>\n",
              "      <td>МОСКВА, 26 мая - РИА Новости. \"Западным друзья...</td>\n",
              "      <td>[Сергей Викторович Лавров]</td>\n",
              "    </tr>\n",
              "    <tr>\n",
              "      <th>2</th>\n",
              "      <td>politics</td>\n",
              "      <td>МОСКВА, 26 мая/ Радио Sputnik. Канцлер Германи...</td>\n",
              "      <td>[Владимир Андреевич Пучков, Дмитрий Анатольеви...</td>\n",
              "    </tr>\n",
              "    <tr>\n",
              "      <th>3</th>\n",
              "      <td>politics</td>\n",
              "      <td>МОСКВА, 26 мая - РИА Новости. У России есть пл...</td>\n",
              "      <td>[Кабус бен Саид, Николай Павлович Лавёров, Сер...</td>\n",
              "    </tr>\n",
              "    <tr>\n",
              "      <th>4</th>\n",
              "      <td>politics</td>\n",
              "      <td>МОСКВА, 26 мая - РИА Новости. В основе работы ...</td>\n",
              "      <td>[Вячеслав Викторович Володин]</td>\n",
              "    </tr>\n",
              "  </tbody>\n",
              "</table>\n",
              "</div>\n",
              "      <button class=\"colab-df-convert\" onclick=\"convertToInteractive('df-33222ec6-cc12-4c1e-a99e-cc0b31dcf13a')\"\n",
              "              title=\"Convert this dataframe to an interactive table.\"\n",
              "              style=\"display:none;\">\n",
              "        \n",
              "  <svg xmlns=\"http://www.w3.org/2000/svg\" height=\"24px\"viewBox=\"0 0 24 24\"\n",
              "       width=\"24px\">\n",
              "    <path d=\"M0 0h24v24H0V0z\" fill=\"none\"/>\n",
              "    <path d=\"M18.56 5.44l.94 2.06.94-2.06 2.06-.94-2.06-.94-.94-2.06-.94 2.06-2.06.94zm-11 1L8.5 8.5l.94-2.06 2.06-.94-2.06-.94L8.5 2.5l-.94 2.06-2.06.94zm10 10l.94 2.06.94-2.06 2.06-.94-2.06-.94-.94-2.06-.94 2.06-2.06.94z\"/><path d=\"M17.41 7.96l-1.37-1.37c-.4-.4-.92-.59-1.43-.59-.52 0-1.04.2-1.43.59L10.3 9.45l-7.72 7.72c-.78.78-.78 2.05 0 2.83L4 21.41c.39.39.9.59 1.41.59.51 0 1.02-.2 1.41-.59l7.78-7.78 2.81-2.81c.8-.78.8-2.07 0-2.86zM5.41 20L4 18.59l7.72-7.72 1.47 1.35L5.41 20z\"/>\n",
              "  </svg>\n",
              "      </button>\n",
              "      \n",
              "  <style>\n",
              "    .colab-df-container {\n",
              "      display:flex;\n",
              "      flex-wrap:wrap;\n",
              "      gap: 12px;\n",
              "    }\n",
              "\n",
              "    .colab-df-convert {\n",
              "      background-color: #E8F0FE;\n",
              "      border: none;\n",
              "      border-radius: 50%;\n",
              "      cursor: pointer;\n",
              "      display: none;\n",
              "      fill: #1967D2;\n",
              "      height: 32px;\n",
              "      padding: 0 0 0 0;\n",
              "      width: 32px;\n",
              "    }\n",
              "\n",
              "    .colab-df-convert:hover {\n",
              "      background-color: #E2EBFA;\n",
              "      box-shadow: 0px 1px 2px rgba(60, 64, 67, 0.3), 0px 1px 3px 1px rgba(60, 64, 67, 0.15);\n",
              "      fill: #174EA6;\n",
              "    }\n",
              "\n",
              "    [theme=dark] .colab-df-convert {\n",
              "      background-color: #3B4455;\n",
              "      fill: #D2E3FC;\n",
              "    }\n",
              "\n",
              "    [theme=dark] .colab-df-convert:hover {\n",
              "      background-color: #434B5C;\n",
              "      box-shadow: 0px 1px 3px 1px rgba(0, 0, 0, 0.15);\n",
              "      filter: drop-shadow(0px 1px 2px rgba(0, 0, 0, 0.3));\n",
              "      fill: #FFFFFF;\n",
              "    }\n",
              "  </style>\n",
              "\n",
              "      <script>\n",
              "        const buttonEl =\n",
              "          document.querySelector('#df-33222ec6-cc12-4c1e-a99e-cc0b31dcf13a button.colab-df-convert');\n",
              "        buttonEl.style.display =\n",
              "          google.colab.kernel.accessAllowed ? 'block' : 'none';\n",
              "\n",
              "        async function convertToInteractive(key) {\n",
              "          const element = document.querySelector('#df-33222ec6-cc12-4c1e-a99e-cc0b31dcf13a');\n",
              "          const dataTable =\n",
              "            await google.colab.kernel.invokeFunction('convertToInteractive',\n",
              "                                                     [key], {});\n",
              "          if (!dataTable) return;\n",
              "\n",
              "          const docLinkHtml = 'Like what you see? Visit the ' +\n",
              "            '<a target=\"_blank\" href=https://colab.research.google.com/notebooks/data_table.ipynb>data table notebook</a>'\n",
              "            + ' to learn more about interactive tables.';\n",
              "          element.innerHTML = '';\n",
              "          dataTable['output_type'] = 'display_data';\n",
              "          await google.colab.output.renderOutput(dataTable, element);\n",
              "          const docLink = document.createElement('div');\n",
              "          docLink.innerHTML = docLinkHtml;\n",
              "          element.appendChild(docLink);\n",
              "        }\n",
              "      </script>\n",
              "    </div>\n",
              "  </div>\n",
              "  "
            ]
          },
          "metadata": {},
          "execution_count": 276
        }
      ]
    },
    {
      "cell_type": "code",
      "source": [
        "df = df_corpus\n",
        "df = df.explode('person')\n",
        "df= df.merge(df,on='article_id', how='inner')\n",
        "df.head()"
      ],
      "metadata": {
        "colab": {
          "base_uri": "https://localhost:8080/",
          "height": 237
        },
        "id": "8KvonSTohzuC",
        "outputId": "5e6830c3-668f-47b7-aeca-657742cdcdc3"
      },
      "execution_count": 162,
      "outputs": [
        {
          "output_type": "execute_result",
          "data": {
            "text/plain": [
              "           category_x                                             text_x  \\\n",
              "article_id                                                                 \n",
              "0            politics  МОСКВА, 27 мая — РИА Новости. Депутат Госдумы ...   \n",
              "0            politics  МОСКВА, 27 мая — РИА Новости. Депутат Госдумы ...   \n",
              "0            politics  МОСКВА, 27 мая — РИА Новости. Депутат Госдумы ...   \n",
              "0            politics  МОСКВА, 27 мая — РИА Новости. Депутат Госдумы ...   \n",
              "0            politics  МОСКВА, 27 мая — РИА Новости. Депутат Госдумы ...   \n",
              "\n",
              "                               person_x category_y  \\\n",
              "article_id                                           \n",
              "0           Вячеслав Викторович Володин   politics   \n",
              "0           Вячеслав Викторович Володин   politics   \n",
              "0           Вячеслав Викторович Володин   politics   \n",
              "0                   Аршба Отари Ионович   politics   \n",
              "0                   Аршба Отари Ионович   politics   \n",
              "\n",
              "                                                       text_y  \\\n",
              "article_id                                                      \n",
              "0           МОСКВА, 27 мая — РИА Новости. Депутат Госдумы ...   \n",
              "0           МОСКВА, 27 мая — РИА Новости. Депутат Госдумы ...   \n",
              "0           МОСКВА, 27 мая — РИА Новости. Депутат Госдумы ...   \n",
              "0           МОСКВА, 27 мая — РИА Новости. Депутат Госдумы ...   \n",
              "0           МОСКВА, 27 мая — РИА Новости. Депутат Госдумы ...   \n",
              "\n",
              "                               person_y  \n",
              "article_id                               \n",
              "0           Вячеслав Викторович Володин  \n",
              "0                   Аршба Отари Ионович  \n",
              "0             Кармазин Юрий Анатольевич  \n",
              "0           Вячеслав Викторович Володин  \n",
              "0                   Аршба Отари Ионович  "
            ],
            "text/html": [
              "\n",
              "  <div id=\"df-b4662fef-25eb-4db7-9c97-cced59d4fabd\">\n",
              "    <div class=\"colab-df-container\">\n",
              "      <div>\n",
              "<style scoped>\n",
              "    .dataframe tbody tr th:only-of-type {\n",
              "        vertical-align: middle;\n",
              "    }\n",
              "\n",
              "    .dataframe tbody tr th {\n",
              "        vertical-align: top;\n",
              "    }\n",
              "\n",
              "    .dataframe thead th {\n",
              "        text-align: right;\n",
              "    }\n",
              "</style>\n",
              "<table border=\"1\" class=\"dataframe\">\n",
              "  <thead>\n",
              "    <tr style=\"text-align: right;\">\n",
              "      <th></th>\n",
              "      <th>category_x</th>\n",
              "      <th>text_x</th>\n",
              "      <th>person_x</th>\n",
              "      <th>category_y</th>\n",
              "      <th>text_y</th>\n",
              "      <th>person_y</th>\n",
              "    </tr>\n",
              "    <tr>\n",
              "      <th>article_id</th>\n",
              "      <th></th>\n",
              "      <th></th>\n",
              "      <th></th>\n",
              "      <th></th>\n",
              "      <th></th>\n",
              "      <th></th>\n",
              "    </tr>\n",
              "  </thead>\n",
              "  <tbody>\n",
              "    <tr>\n",
              "      <th>0</th>\n",
              "      <td>politics</td>\n",
              "      <td>МОСКВА, 27 мая — РИА Новости. Депутат Госдумы ...</td>\n",
              "      <td>Вячеслав Викторович Володин</td>\n",
              "      <td>politics</td>\n",
              "      <td>МОСКВА, 27 мая — РИА Новости. Депутат Госдумы ...</td>\n",
              "      <td>Вячеслав Викторович Володин</td>\n",
              "    </tr>\n",
              "    <tr>\n",
              "      <th>0</th>\n",
              "      <td>politics</td>\n",
              "      <td>МОСКВА, 27 мая — РИА Новости. Депутат Госдумы ...</td>\n",
              "      <td>Вячеслав Викторович Володин</td>\n",
              "      <td>politics</td>\n",
              "      <td>МОСКВА, 27 мая — РИА Новости. Депутат Госдумы ...</td>\n",
              "      <td>Аршба Отари Ионович</td>\n",
              "    </tr>\n",
              "    <tr>\n",
              "      <th>0</th>\n",
              "      <td>politics</td>\n",
              "      <td>МОСКВА, 27 мая — РИА Новости. Депутат Госдумы ...</td>\n",
              "      <td>Вячеслав Викторович Володин</td>\n",
              "      <td>politics</td>\n",
              "      <td>МОСКВА, 27 мая — РИА Новости. Депутат Госдумы ...</td>\n",
              "      <td>Кармазин Юрий Анатольевич</td>\n",
              "    </tr>\n",
              "    <tr>\n",
              "      <th>0</th>\n",
              "      <td>politics</td>\n",
              "      <td>МОСКВА, 27 мая — РИА Новости. Депутат Госдумы ...</td>\n",
              "      <td>Аршба Отари Ионович</td>\n",
              "      <td>politics</td>\n",
              "      <td>МОСКВА, 27 мая — РИА Новости. Депутат Госдумы ...</td>\n",
              "      <td>Вячеслав Викторович Володин</td>\n",
              "    </tr>\n",
              "    <tr>\n",
              "      <th>0</th>\n",
              "      <td>politics</td>\n",
              "      <td>МОСКВА, 27 мая — РИА Новости. Депутат Госдумы ...</td>\n",
              "      <td>Аршба Отари Ионович</td>\n",
              "      <td>politics</td>\n",
              "      <td>МОСКВА, 27 мая — РИА Новости. Депутат Госдумы ...</td>\n",
              "      <td>Аршба Отари Ионович</td>\n",
              "    </tr>\n",
              "  </tbody>\n",
              "</table>\n",
              "</div>\n",
              "      <button class=\"colab-df-convert\" onclick=\"convertToInteractive('df-b4662fef-25eb-4db7-9c97-cced59d4fabd')\"\n",
              "              title=\"Convert this dataframe to an interactive table.\"\n",
              "              style=\"display:none;\">\n",
              "        \n",
              "  <svg xmlns=\"http://www.w3.org/2000/svg\" height=\"24px\"viewBox=\"0 0 24 24\"\n",
              "       width=\"24px\">\n",
              "    <path d=\"M0 0h24v24H0V0z\" fill=\"none\"/>\n",
              "    <path d=\"M18.56 5.44l.94 2.06.94-2.06 2.06-.94-2.06-.94-.94-2.06-.94 2.06-2.06.94zm-11 1L8.5 8.5l.94-2.06 2.06-.94-2.06-.94L8.5 2.5l-.94 2.06-2.06.94zm10 10l.94 2.06.94-2.06 2.06-.94-2.06-.94-.94-2.06-.94 2.06-2.06.94z\"/><path d=\"M17.41 7.96l-1.37-1.37c-.4-.4-.92-.59-1.43-.59-.52 0-1.04.2-1.43.59L10.3 9.45l-7.72 7.72c-.78.78-.78 2.05 0 2.83L4 21.41c.39.39.9.59 1.41.59.51 0 1.02-.2 1.41-.59l7.78-7.78 2.81-2.81c.8-.78.8-2.07 0-2.86zM5.41 20L4 18.59l7.72-7.72 1.47 1.35L5.41 20z\"/>\n",
              "  </svg>\n",
              "      </button>\n",
              "      \n",
              "  <style>\n",
              "    .colab-df-container {\n",
              "      display:flex;\n",
              "      flex-wrap:wrap;\n",
              "      gap: 12px;\n",
              "    }\n",
              "\n",
              "    .colab-df-convert {\n",
              "      background-color: #E8F0FE;\n",
              "      border: none;\n",
              "      border-radius: 50%;\n",
              "      cursor: pointer;\n",
              "      display: none;\n",
              "      fill: #1967D2;\n",
              "      height: 32px;\n",
              "      padding: 0 0 0 0;\n",
              "      width: 32px;\n",
              "    }\n",
              "\n",
              "    .colab-df-convert:hover {\n",
              "      background-color: #E2EBFA;\n",
              "      box-shadow: 0px 1px 2px rgba(60, 64, 67, 0.3), 0px 1px 3px 1px rgba(60, 64, 67, 0.15);\n",
              "      fill: #174EA6;\n",
              "    }\n",
              "\n",
              "    [theme=dark] .colab-df-convert {\n",
              "      background-color: #3B4455;\n",
              "      fill: #D2E3FC;\n",
              "    }\n",
              "\n",
              "    [theme=dark] .colab-df-convert:hover {\n",
              "      background-color: #434B5C;\n",
              "      box-shadow: 0px 1px 3px 1px rgba(0, 0, 0, 0.15);\n",
              "      filter: drop-shadow(0px 1px 2px rgba(0, 0, 0, 0.3));\n",
              "      fill: #FFFFFF;\n",
              "    }\n",
              "  </style>\n",
              "\n",
              "      <script>\n",
              "        const buttonEl =\n",
              "          document.querySelector('#df-b4662fef-25eb-4db7-9c97-cced59d4fabd button.colab-df-convert');\n",
              "        buttonEl.style.display =\n",
              "          google.colab.kernel.accessAllowed ? 'block' : 'none';\n",
              "\n",
              "        async function convertToInteractive(key) {\n",
              "          const element = document.querySelector('#df-b4662fef-25eb-4db7-9c97-cced59d4fabd');\n",
              "          const dataTable =\n",
              "            await google.colab.kernel.invokeFunction('convertToInteractive',\n",
              "                                                     [key], {});\n",
              "          if (!dataTable) return;\n",
              "\n",
              "          const docLinkHtml = 'Like what you see? Visit the ' +\n",
              "            '<a target=\"_blank\" href=https://colab.research.google.com/notebooks/data_table.ipynb>data table notebook</a>'\n",
              "            + ' to learn more about interactive tables.';\n",
              "          element.innerHTML = '';\n",
              "          dataTable['output_type'] = 'display_data';\n",
              "          await google.colab.output.renderOutput(dataTable, element);\n",
              "          const docLink = document.createElement('div');\n",
              "          docLink.innerHTML = docLinkHtml;\n",
              "          element.appendChild(docLink);\n",
              "        }\n",
              "      </script>\n",
              "    </div>\n",
              "  </div>\n",
              "  "
            ]
          },
          "metadata": {},
          "execution_count": 162
        }
      ]
    },
    {
      "cell_type": "code",
      "source": [
        "edges = df[['person_x', 'person_y']]\n",
        "edges = edges[edges.person_x != edges.person_y]\n",
        "edges"
      ],
      "metadata": {
        "colab": {
          "base_uri": "https://localhost:8080/",
          "height": 455
        },
        "id": "neRMPmW8kwXc",
        "outputId": "5f8f9d3a-c57c-4407-9f0c-f8a3d0af1a4b"
      },
      "execution_count": 163,
      "outputs": [
        {
          "output_type": "execute_result",
          "data": {
            "text/plain": [
              "                               person_x                     person_y\n",
              "article_id                                                          \n",
              "0           Вячеслав Викторович Володин          Аршба Отари Ионович\n",
              "0           Вячеслав Викторович Володин    Кармазин Юрий Анатольевич\n",
              "0                   Аршба Отари Ионович  Вячеслав Викторович Володин\n",
              "0                   Аршба Отари Ионович    Кармазин Юрий Анатольевич\n",
              "0             Кармазин Юрий Анатольевич  Вячеслав Викторович Володин\n",
              "...                                 ...                          ...\n",
              "249         Максим Леонардович Шевченко       Зуев Владимир Евсеевич\n",
              "249         Максим Леонардович Шевченко        Голодец Ольга Юрьевна\n",
              "249         Максим Леонардович Шевченко              Эвелина Ганская\n",
              "249         Максим Леонардович Шевченко             Марина Абрамович\n",
              "249         Максим Леонардович Шевченко                  Артур Оукен\n",
              "\n",
              "[2864 rows x 2 columns]"
            ],
            "text/html": [
              "\n",
              "  <div id=\"df-558274ed-018f-4393-a6f5-744abf321421\">\n",
              "    <div class=\"colab-df-container\">\n",
              "      <div>\n",
              "<style scoped>\n",
              "    .dataframe tbody tr th:only-of-type {\n",
              "        vertical-align: middle;\n",
              "    }\n",
              "\n",
              "    .dataframe tbody tr th {\n",
              "        vertical-align: top;\n",
              "    }\n",
              "\n",
              "    .dataframe thead th {\n",
              "        text-align: right;\n",
              "    }\n",
              "</style>\n",
              "<table border=\"1\" class=\"dataframe\">\n",
              "  <thead>\n",
              "    <tr style=\"text-align: right;\">\n",
              "      <th></th>\n",
              "      <th>person_x</th>\n",
              "      <th>person_y</th>\n",
              "    </tr>\n",
              "    <tr>\n",
              "      <th>article_id</th>\n",
              "      <th></th>\n",
              "      <th></th>\n",
              "    </tr>\n",
              "  </thead>\n",
              "  <tbody>\n",
              "    <tr>\n",
              "      <th>0</th>\n",
              "      <td>Вячеслав Викторович Володин</td>\n",
              "      <td>Аршба Отари Ионович</td>\n",
              "    </tr>\n",
              "    <tr>\n",
              "      <th>0</th>\n",
              "      <td>Вячеслав Викторович Володин</td>\n",
              "      <td>Кармазин Юрий Анатольевич</td>\n",
              "    </tr>\n",
              "    <tr>\n",
              "      <th>0</th>\n",
              "      <td>Аршба Отари Ионович</td>\n",
              "      <td>Вячеслав Викторович Володин</td>\n",
              "    </tr>\n",
              "    <tr>\n",
              "      <th>0</th>\n",
              "      <td>Аршба Отари Ионович</td>\n",
              "      <td>Кармазин Юрий Анатольевич</td>\n",
              "    </tr>\n",
              "    <tr>\n",
              "      <th>0</th>\n",
              "      <td>Кармазин Юрий Анатольевич</td>\n",
              "      <td>Вячеслав Викторович Володин</td>\n",
              "    </tr>\n",
              "    <tr>\n",
              "      <th>...</th>\n",
              "      <td>...</td>\n",
              "      <td>...</td>\n",
              "    </tr>\n",
              "    <tr>\n",
              "      <th>249</th>\n",
              "      <td>Максим Леонардович Шевченко</td>\n",
              "      <td>Зуев Владимир Евсеевич</td>\n",
              "    </tr>\n",
              "    <tr>\n",
              "      <th>249</th>\n",
              "      <td>Максим Леонардович Шевченко</td>\n",
              "      <td>Голодец Ольга Юрьевна</td>\n",
              "    </tr>\n",
              "    <tr>\n",
              "      <th>249</th>\n",
              "      <td>Максим Леонардович Шевченко</td>\n",
              "      <td>Эвелина Ганская</td>\n",
              "    </tr>\n",
              "    <tr>\n",
              "      <th>249</th>\n",
              "      <td>Максим Леонардович Шевченко</td>\n",
              "      <td>Марина Абрамович</td>\n",
              "    </tr>\n",
              "    <tr>\n",
              "      <th>249</th>\n",
              "      <td>Максим Леонардович Шевченко</td>\n",
              "      <td>Артур Оукен</td>\n",
              "    </tr>\n",
              "  </tbody>\n",
              "</table>\n",
              "<p>2864 rows × 2 columns</p>\n",
              "</div>\n",
              "      <button class=\"colab-df-convert\" onclick=\"convertToInteractive('df-558274ed-018f-4393-a6f5-744abf321421')\"\n",
              "              title=\"Convert this dataframe to an interactive table.\"\n",
              "              style=\"display:none;\">\n",
              "        \n",
              "  <svg xmlns=\"http://www.w3.org/2000/svg\" height=\"24px\"viewBox=\"0 0 24 24\"\n",
              "       width=\"24px\">\n",
              "    <path d=\"M0 0h24v24H0V0z\" fill=\"none\"/>\n",
              "    <path d=\"M18.56 5.44l.94 2.06.94-2.06 2.06-.94-2.06-.94-.94-2.06-.94 2.06-2.06.94zm-11 1L8.5 8.5l.94-2.06 2.06-.94-2.06-.94L8.5 2.5l-.94 2.06-2.06.94zm10 10l.94 2.06.94-2.06 2.06-.94-2.06-.94-.94-2.06-.94 2.06-2.06.94z\"/><path d=\"M17.41 7.96l-1.37-1.37c-.4-.4-.92-.59-1.43-.59-.52 0-1.04.2-1.43.59L10.3 9.45l-7.72 7.72c-.78.78-.78 2.05 0 2.83L4 21.41c.39.39.9.59 1.41.59.51 0 1.02-.2 1.41-.59l7.78-7.78 2.81-2.81c.8-.78.8-2.07 0-2.86zM5.41 20L4 18.59l7.72-7.72 1.47 1.35L5.41 20z\"/>\n",
              "  </svg>\n",
              "      </button>\n",
              "      \n",
              "  <style>\n",
              "    .colab-df-container {\n",
              "      display:flex;\n",
              "      flex-wrap:wrap;\n",
              "      gap: 12px;\n",
              "    }\n",
              "\n",
              "    .colab-df-convert {\n",
              "      background-color: #E8F0FE;\n",
              "      border: none;\n",
              "      border-radius: 50%;\n",
              "      cursor: pointer;\n",
              "      display: none;\n",
              "      fill: #1967D2;\n",
              "      height: 32px;\n",
              "      padding: 0 0 0 0;\n",
              "      width: 32px;\n",
              "    }\n",
              "\n",
              "    .colab-df-convert:hover {\n",
              "      background-color: #E2EBFA;\n",
              "      box-shadow: 0px 1px 2px rgba(60, 64, 67, 0.3), 0px 1px 3px 1px rgba(60, 64, 67, 0.15);\n",
              "      fill: #174EA6;\n",
              "    }\n",
              "\n",
              "    [theme=dark] .colab-df-convert {\n",
              "      background-color: #3B4455;\n",
              "      fill: #D2E3FC;\n",
              "    }\n",
              "\n",
              "    [theme=dark] .colab-df-convert:hover {\n",
              "      background-color: #434B5C;\n",
              "      box-shadow: 0px 1px 3px 1px rgba(0, 0, 0, 0.15);\n",
              "      filter: drop-shadow(0px 1px 2px rgba(0, 0, 0, 0.3));\n",
              "      fill: #FFFFFF;\n",
              "    }\n",
              "  </style>\n",
              "\n",
              "      <script>\n",
              "        const buttonEl =\n",
              "          document.querySelector('#df-558274ed-018f-4393-a6f5-744abf321421 button.colab-df-convert');\n",
              "        buttonEl.style.display =\n",
              "          google.colab.kernel.accessAllowed ? 'block' : 'none';\n",
              "\n",
              "        async function convertToInteractive(key) {\n",
              "          const element = document.querySelector('#df-558274ed-018f-4393-a6f5-744abf321421');\n",
              "          const dataTable =\n",
              "            await google.colab.kernel.invokeFunction('convertToInteractive',\n",
              "                                                     [key], {});\n",
              "          if (!dataTable) return;\n",
              "\n",
              "          const docLinkHtml = 'Like what you see? Visit the ' +\n",
              "            '<a target=\"_blank\" href=https://colab.research.google.com/notebooks/data_table.ipynb>data table notebook</a>'\n",
              "            + ' to learn more about interactive tables.';\n",
              "          element.innerHTML = '';\n",
              "          dataTable['output_type'] = 'display_data';\n",
              "          await google.colab.output.renderOutput(dataTable, element);\n",
              "          const docLink = document.createElement('div');\n",
              "          docLink.innerHTML = docLinkHtml;\n",
              "          element.appendChild(docLink);\n",
              "        }\n",
              "      </script>\n",
              "    </div>\n",
              "  </div>\n",
              "  "
            ]
          },
          "metadata": {},
          "execution_count": 163
        }
      ]
    },
    {
      "cell_type": "code",
      "source": [
        "edges['meets'] = edges.groupby(['person_x', 'person_y']).person_x.transform('count')\n",
        "edges = edges.dropna()\n",
        "edges = edges.drop_duplicates()\n",
        "edges"
      ],
      "metadata": {
        "colab": {
          "base_uri": "https://localhost:8080/",
          "height": 455
        },
        "id": "k41gC0pAnD4j",
        "outputId": "3be45d91-cfa3-46b1-a1ec-81dcaa5cb8bb"
      },
      "execution_count": 164,
      "outputs": [
        {
          "output_type": "execute_result",
          "data": {
            "text/plain": [
              "                               person_x                     person_y  meets\n",
              "article_id                                                                 \n",
              "0           Вячеслав Викторович Володин          Аршба Отари Ионович    1.0\n",
              "0           Вячеслав Викторович Володин    Кармазин Юрий Анатольевич    1.0\n",
              "0                   Аршба Отари Ионович  Вячеслав Викторович Володин    1.0\n",
              "0                   Аршба Отари Ионович    Кармазин Юрий Анатольевич    1.0\n",
              "0             Кармазин Юрий Анатольевич  Вячеслав Викторович Володин    1.0\n",
              "...                                 ...                          ...    ...\n",
              "249         Максим Леонардович Шевченко       Зуев Владимир Евсеевич    1.0\n",
              "249         Максим Леонардович Шевченко        Голодец Ольга Юрьевна    1.0\n",
              "249         Максим Леонардович Шевченко              Эвелина Ганская    1.0\n",
              "249         Максим Леонардович Шевченко             Марина Абрамович    1.0\n",
              "249         Максим Леонардович Шевченко                  Артур Оукен    1.0\n",
              "\n",
              "[2560 rows x 3 columns]"
            ],
            "text/html": [
              "\n",
              "  <div id=\"df-34ec5873-dab3-4739-8f2a-f265730a2753\">\n",
              "    <div class=\"colab-df-container\">\n",
              "      <div>\n",
              "<style scoped>\n",
              "    .dataframe tbody tr th:only-of-type {\n",
              "        vertical-align: middle;\n",
              "    }\n",
              "\n",
              "    .dataframe tbody tr th {\n",
              "        vertical-align: top;\n",
              "    }\n",
              "\n",
              "    .dataframe thead th {\n",
              "        text-align: right;\n",
              "    }\n",
              "</style>\n",
              "<table border=\"1\" class=\"dataframe\">\n",
              "  <thead>\n",
              "    <tr style=\"text-align: right;\">\n",
              "      <th></th>\n",
              "      <th>person_x</th>\n",
              "      <th>person_y</th>\n",
              "      <th>meets</th>\n",
              "    </tr>\n",
              "    <tr>\n",
              "      <th>article_id</th>\n",
              "      <th></th>\n",
              "      <th></th>\n",
              "      <th></th>\n",
              "    </tr>\n",
              "  </thead>\n",
              "  <tbody>\n",
              "    <tr>\n",
              "      <th>0</th>\n",
              "      <td>Вячеслав Викторович Володин</td>\n",
              "      <td>Аршба Отари Ионович</td>\n",
              "      <td>1.0</td>\n",
              "    </tr>\n",
              "    <tr>\n",
              "      <th>0</th>\n",
              "      <td>Вячеслав Викторович Володин</td>\n",
              "      <td>Кармазин Юрий Анатольевич</td>\n",
              "      <td>1.0</td>\n",
              "    </tr>\n",
              "    <tr>\n",
              "      <th>0</th>\n",
              "      <td>Аршба Отари Ионович</td>\n",
              "      <td>Вячеслав Викторович Володин</td>\n",
              "      <td>1.0</td>\n",
              "    </tr>\n",
              "    <tr>\n",
              "      <th>0</th>\n",
              "      <td>Аршба Отари Ионович</td>\n",
              "      <td>Кармазин Юрий Анатольевич</td>\n",
              "      <td>1.0</td>\n",
              "    </tr>\n",
              "    <tr>\n",
              "      <th>0</th>\n",
              "      <td>Кармазин Юрий Анатольевич</td>\n",
              "      <td>Вячеслав Викторович Володин</td>\n",
              "      <td>1.0</td>\n",
              "    </tr>\n",
              "    <tr>\n",
              "      <th>...</th>\n",
              "      <td>...</td>\n",
              "      <td>...</td>\n",
              "      <td>...</td>\n",
              "    </tr>\n",
              "    <tr>\n",
              "      <th>249</th>\n",
              "      <td>Максим Леонардович Шевченко</td>\n",
              "      <td>Зуев Владимир Евсеевич</td>\n",
              "      <td>1.0</td>\n",
              "    </tr>\n",
              "    <tr>\n",
              "      <th>249</th>\n",
              "      <td>Максим Леонардович Шевченко</td>\n",
              "      <td>Голодец Ольга Юрьевна</td>\n",
              "      <td>1.0</td>\n",
              "    </tr>\n",
              "    <tr>\n",
              "      <th>249</th>\n",
              "      <td>Максим Леонардович Шевченко</td>\n",
              "      <td>Эвелина Ганская</td>\n",
              "      <td>1.0</td>\n",
              "    </tr>\n",
              "    <tr>\n",
              "      <th>249</th>\n",
              "      <td>Максим Леонардович Шевченко</td>\n",
              "      <td>Марина Абрамович</td>\n",
              "      <td>1.0</td>\n",
              "    </tr>\n",
              "    <tr>\n",
              "      <th>249</th>\n",
              "      <td>Максим Леонардович Шевченко</td>\n",
              "      <td>Артур Оукен</td>\n",
              "      <td>1.0</td>\n",
              "    </tr>\n",
              "  </tbody>\n",
              "</table>\n",
              "<p>2560 rows × 3 columns</p>\n",
              "</div>\n",
              "      <button class=\"colab-df-convert\" onclick=\"convertToInteractive('df-34ec5873-dab3-4739-8f2a-f265730a2753')\"\n",
              "              title=\"Convert this dataframe to an interactive table.\"\n",
              "              style=\"display:none;\">\n",
              "        \n",
              "  <svg xmlns=\"http://www.w3.org/2000/svg\" height=\"24px\"viewBox=\"0 0 24 24\"\n",
              "       width=\"24px\">\n",
              "    <path d=\"M0 0h24v24H0V0z\" fill=\"none\"/>\n",
              "    <path d=\"M18.56 5.44l.94 2.06.94-2.06 2.06-.94-2.06-.94-.94-2.06-.94 2.06-2.06.94zm-11 1L8.5 8.5l.94-2.06 2.06-.94-2.06-.94L8.5 2.5l-.94 2.06-2.06.94zm10 10l.94 2.06.94-2.06 2.06-.94-2.06-.94-.94-2.06-.94 2.06-2.06.94z\"/><path d=\"M17.41 7.96l-1.37-1.37c-.4-.4-.92-.59-1.43-.59-.52 0-1.04.2-1.43.59L10.3 9.45l-7.72 7.72c-.78.78-.78 2.05 0 2.83L4 21.41c.39.39.9.59 1.41.59.51 0 1.02-.2 1.41-.59l7.78-7.78 2.81-2.81c.8-.78.8-2.07 0-2.86zM5.41 20L4 18.59l7.72-7.72 1.47 1.35L5.41 20z\"/>\n",
              "  </svg>\n",
              "      </button>\n",
              "      \n",
              "  <style>\n",
              "    .colab-df-container {\n",
              "      display:flex;\n",
              "      flex-wrap:wrap;\n",
              "      gap: 12px;\n",
              "    }\n",
              "\n",
              "    .colab-df-convert {\n",
              "      background-color: #E8F0FE;\n",
              "      border: none;\n",
              "      border-radius: 50%;\n",
              "      cursor: pointer;\n",
              "      display: none;\n",
              "      fill: #1967D2;\n",
              "      height: 32px;\n",
              "      padding: 0 0 0 0;\n",
              "      width: 32px;\n",
              "    }\n",
              "\n",
              "    .colab-df-convert:hover {\n",
              "      background-color: #E2EBFA;\n",
              "      box-shadow: 0px 1px 2px rgba(60, 64, 67, 0.3), 0px 1px 3px 1px rgba(60, 64, 67, 0.15);\n",
              "      fill: #174EA6;\n",
              "    }\n",
              "\n",
              "    [theme=dark] .colab-df-convert {\n",
              "      background-color: #3B4455;\n",
              "      fill: #D2E3FC;\n",
              "    }\n",
              "\n",
              "    [theme=dark] .colab-df-convert:hover {\n",
              "      background-color: #434B5C;\n",
              "      box-shadow: 0px 1px 3px 1px rgba(0, 0, 0, 0.15);\n",
              "      filter: drop-shadow(0px 1px 2px rgba(0, 0, 0, 0.3));\n",
              "      fill: #FFFFFF;\n",
              "    }\n",
              "  </style>\n",
              "\n",
              "      <script>\n",
              "        const buttonEl =\n",
              "          document.querySelector('#df-34ec5873-dab3-4739-8f2a-f265730a2753 button.colab-df-convert');\n",
              "        buttonEl.style.display =\n",
              "          google.colab.kernel.accessAllowed ? 'block' : 'none';\n",
              "\n",
              "        async function convertToInteractive(key) {\n",
              "          const element = document.querySelector('#df-34ec5873-dab3-4739-8f2a-f265730a2753');\n",
              "          const dataTable =\n",
              "            await google.colab.kernel.invokeFunction('convertToInteractive',\n",
              "                                                     [key], {});\n",
              "          if (!dataTable) return;\n",
              "\n",
              "          const docLinkHtml = 'Like what you see? Visit the ' +\n",
              "            '<a target=\"_blank\" href=https://colab.research.google.com/notebooks/data_table.ipynb>data table notebook</a>'\n",
              "            + ' to learn more about interactive tables.';\n",
              "          element.innerHTML = '';\n",
              "          dataTable['output_type'] = 'display_data';\n",
              "          await google.colab.output.renderOutput(dataTable, element);\n",
              "          const docLink = document.createElement('div');\n",
              "          docLink.innerHTML = docLinkHtml;\n",
              "          element.appendChild(docLink);\n",
              "        }\n",
              "      </script>\n",
              "    </div>\n",
              "  </div>\n",
              "  "
            ]
          },
          "metadata": {},
          "execution_count": 164
        }
      ]
    },
    {
      "cell_type": "code",
      "source": [
        "g = nx.from_pandas_edgelist(edges, source='person_x', target = 'person_y', edge_attr = 'meets')"
      ],
      "metadata": {
        "id": "CRmEBQhwl176"
      },
      "execution_count": 165,
      "outputs": []
    },
    {
      "cell_type": "code",
      "source": [
        "g.number_of_nodes(), g.number_of_edges()"
      ],
      "metadata": {
        "colab": {
          "base_uri": "https://localhost:8080/"
        },
        "id": "JCIRdKc4Mwm6",
        "outputId": "feab5dfe-b246-4359-dcaa-87c41afa2564"
      },
      "execution_count": 166,
      "outputs": [
        {
          "output_type": "execute_result",
          "data": {
            "text/plain": [
              "(384, 1280)"
            ]
          },
          "metadata": {},
          "execution_count": 166
        }
      ]
    },
    {
      "cell_type": "markdown",
      "source": [
        "# Visualization"
      ],
      "metadata": {
        "id": "EMQA9GAB12L_"
      }
    },
    {
      "cell_type": "code",
      "source": [
        "#edges_t = edges[edges.meets > edges.meets.quantile(0.01)] \n",
        "#G = nx.from_pandas_edgelist(edges, source='person_x', target = 'person_y', edge_attr = 'meets')\n",
        "G = g.copy()\n",
        "wdeg = G.degree(weight = 'meets')\n",
        "to_remove = [n for n,d in wdeg if d <602 ]\n",
        "G.remove_nodes_from(to_remove)\n",
        "\n",
        "G = g.copy()\n",
        "sens_scores = nx.pagerank(g, alpha=0.9, weight='meets')\n",
        "sen_rank = sorted(sens_scores.items(), key=lambda x: x[1], reverse=True)\n",
        "to_remove = [n for n,d in sen_rank[30:]]\n",
        "G.remove_nodes_from(to_remove)\n",
        "edge_all = [(u,v) for (u,v,d) in G.edges(data=True)]\n",
        "pos=nx.spring_layout(G)\n",
        "plt.figure(figsize=(25,20))\n",
        "nx.draw_networkx_nodes(G,pos,node_size=12)                 # draw nodes\n",
        "nx.draw_networkx_edges(G,pos,edgelist=edge_all,width=0.12) # draw edges\n",
        "nx.draw_networkx_labels(G,pos, font_size=9)"
      ],
      "metadata": {
        "colab": {
          "base_uri": "https://localhost:8080/",
          "height": 1000
        },
        "id": "1c4CZxXJ37EG",
        "outputId": "8f4d7d4c-dc9c-49c8-9481-a146baa013e1"
      },
      "execution_count": 175,
      "outputs": [
        {
          "output_type": "execute_result",
          "data": {
            "text/plain": [
              "{'Александр Константинович Глазунов': Text(0.7310762178151902, -0.44593376302424736, 'Александр Константинович Глазунов'),\n",
              " 'Александр Петрович Чуприян': Text(-0.0014281526052608285, 0.08564713302713241, 'Александр Петрович Чуприян'),\n",
              " 'Анна': Text(0.27183850544073307, 0.3172947871863431, 'Анна'),\n",
              " 'Анна Юрьевна Нетребко': Text(0.17404696704100056, 0.2862573358430409, 'Анна Юрьевна Нетребко'),\n",
              " 'Аршба Отари Ионович': Text(-0.767820738597639, 0.8745707428568726, 'Аршба Отари Ионович'),\n",
              " 'Владимир Владимирович Путин': Text(-0.011222330318635959, 0.16525087985171152, 'Владимир Владимирович Путин'),\n",
              " 'Голодец Ольга Юрьевна': Text(0.4741138240518606, 0.42524915264861807, 'Голодец Ольга Юрьевна'),\n",
              " 'Денис Николаевич Вороненков': Text(-1.0, 0.42868446085996104, 'Денис Николаевич Вороненков'),\n",
              " 'Дмитрий Анатольевич Медведев': Text(-0.06215407505924373, 0.1487543429576431, 'Дмитрий Анатольевич Медведев'),\n",
              " 'Дмитрий Олегович Рогозин': Text(-0.07873167609349782, 0.2702385685099413, 'Дмитрий Олегович Рогозин'),\n",
              " 'Зиничев Евгений Николаевич': Text(-0.058047318742106474, 0.08849572232317376, 'Зиничев Евгений Николаевич'),\n",
              " 'Иван IV Грозный': Text(-0.6894845912708859, -0.48698545250423875, 'Иван IV Грозный'),\n",
              " 'Игорь Всеволодович Крестовский': Text(-0.6428859663801332, -0.5223505824848674, 'Игорь Всеволодович Крестовский'),\n",
              " 'Илья Ефимович Репин': Text(-0.606285594497415, -0.4545331218924529, 'Илья Ефимович Репин'),\n",
              " 'Куренков Александр Александрович': Text(-0.08722011924695551, 0.08856884955426259, 'Куренков Александр Александрович'),\n",
              " 'Максим Леонардович Шевченко': Text(0.33083073693023735, 0.35528197626141755, 'Максим Леонардович Шевченко'),\n",
              " 'Матвеев Денис Владимирович': Text(-0.030797005005563483, -0.8008889141874425, 'Матвеев Денис Владимирович'),\n",
              " 'Мельник Александр Владимирович': Text(-0.03680563603502572, 0.11200213774271861, 'Мельник Александр Владимирович'),\n",
              " 'Михаил Пиотровский': Text(0.5754829579872821, 0.444944213461863, 'Михаил Пиотровский'),\n",
              " 'Никита Михалков': Text(0.43820142021606556, -0.8951450004248219, 'Никита Михалков'),\n",
              " 'Олег Германович Артемьев': Text(-0.04301227796110192, -0.8660622711985307, 'Олег Германович Артемьев'),\n",
              " 'Ольга Сергеевна Кузенкова': Text(-0.06031302860170515, 0.051225194241271, 'Ольга Сергеевна Кузенкова'),\n",
              " 'Рогозин Олег Константинович': Text(-0.13817709764337927, 0.374647637793941, 'Рогозин Олег Константинович'),\n",
              " 'Роман Сергеевич Филиппов': Text(0.187367734129601, 0.39160180088588015, 'Роман Сергеевич Филиппов'),\n",
              " 'Руденко Андрей Викторович': Text(-0.10272639771117646, 0.21556908150147355, 'Руденко Андрей Викторович'),\n",
              " 'Саманта Кристофоретти': Text(0.017286692197361852, -0.8437513112861902, 'Саманта Кристофоретти'),\n",
              " 'Сергей Куренков': Text(-0.022151555799413, 0.055306719680424304, 'Сергей Куренков'),\n",
              " 'Сергей Сергеевич Прокофьев': Text(0.8053363589338629, -0.4862728335950953, 'Сергей Сергеевич Прокофьев'),\n",
              " 'Фабер Иоганн': Text(0.5524947326668442, 0.49557910580399095, 'Фабер Иоганн'),\n",
              " 'Юничева Рамина': Text(-0.11881258584090162, 0.12675340760620651, 'Юничева Рамина')}"
            ]
          },
          "metadata": {},
          "execution_count": 175
        },
        {
          "output_type": "display_data",
          "data": {
            "text/plain": [
              "<Figure size 1800x1440 with 1 Axes>"
            ],
            "image/png": "[encoded data removed]"
          },
          "metadata": {}
        }
      ]
    },
    {
      "cell_type": "markdown",
      "source": [
        "average neighboring in text"
      ],
      "metadata": {
        "id": "lXJhjNULqAzd"
      }
    },
    {
      "cell_type": "code",
      "source": [
        "np.mean(np.array([d for n,d in g.degree()])), np.median(np.array([d for n,d in g.degree()]))"
      ],
      "metadata": {
        "colab": {
          "base_uri": "https://localhost:8080/"
        },
        "id": "6B1RYOkYpULL",
        "outputId": "0afc698b-b395-4d07-8dfa-3a695311b86d"
      },
      "execution_count": 176,
      "outputs": [
        {
          "output_type": "execute_result",
          "data": {
            "text/plain": [
              "(6.666666666666667, 5.0)"
            ]
          },
          "metadata": {},
          "execution_count": 176
        }
      ]
    },
    {
      "cell_type": "markdown",
      "source": [
        "average meets number for each person"
      ],
      "metadata": {
        "id": "24F64IYjuOmt"
      }
    },
    {
      "cell_type": "code",
      "source": [
        "np.mean(np.array([d for n,d in g.degree(weight = 'meets')])), np.median(np.array([d for n,d in g.degree(weight = 'meets')]))"
      ],
      "metadata": {
        "colab": {
          "base_uri": "https://localhost:8080/"
        },
        "id": "FUYif4yAqky9",
        "outputId": "70956608-d07a-4f63-a2da-380550deeaca"
      },
      "execution_count": 177,
      "outputs": [
        {
          "output_type": "execute_result",
          "data": {
            "text/plain": [
              "(7.302083333333333, 5.0)"
            ]
          },
          "metadata": {},
          "execution_count": 177
        }
      ]
    },
    {
      "cell_type": "code",
      "source": [
        "np.sort(np.array([d for n,d in g.degree(weight = 'meets')]))[::-1][0:5]"
      ],
      "metadata": {
        "colab": {
          "base_uri": "https://localhost:8080/"
        },
        "id": "r73O27mU6uvo",
        "outputId": "e2873102-2ed4-4d04-8394-28979969feeb"
      },
      "execution_count": 178,
      "outputs": [
        {
          "output_type": "execute_result",
          "data": {
            "text/plain": [
              "array([89., 55., 53., 41., 37.])"
            ]
          },
          "metadata": {},
          "execution_count": 178
        }
      ]
    },
    {
      "cell_type": "code",
      "source": [
        "nx.density(g)"
      ],
      "metadata": {
        "colab": {
          "base_uri": "https://localhost:8080/"
        },
        "id": "VNCPj3wD1IM9",
        "outputId": "59d801cc-8c76-4639-f23b-cd2dd5a88f77"
      },
      "execution_count": 179,
      "outputs": [
        {
          "output_type": "execute_result",
          "data": {
            "text/plain": [
              "0.017406440382941687"
            ]
          },
          "metadata": {},
          "execution_count": 179
        }
      ]
    },
    {
      "cell_type": "code",
      "source": [
        "#S = [nx.diameter(G.subgraph(c).copy()) for c in nx.connected_components(g) if len(c)> 1]\n",
        "\n",
        "nx.diameter(g.subgraph([c for c in sorted(nx.connected_components(g), key=len, reverse=True)][0]))"
      ],
      "metadata": {
        "colab": {
          "base_uri": "https://localhost:8080/"
        },
        "id": "lpxyg4cZAKms",
        "outputId": "039c1e4f-2d0a-4a88-9aaf-a8c549952ae9"
      },
      "execution_count": 180,
      "outputs": [
        {
          "output_type": "execute_result",
          "data": {
            "text/plain": [
              "8"
            ]
          },
          "metadata": {},
          "execution_count": 180
        }
      ]
    },
    {
      "cell_type": "code",
      "source": [
        "sens_scores = nx.pagerank(g, alpha=0.9, weight='meets')\n",
        "sen_rank = sorted(sens_scores.items(), key=lambda x: x[1], reverse=True)\n",
        "sen_rank[0:5]"
      ],
      "metadata": {
        "colab": {
          "base_uri": "https://localhost:8080/"
        },
        "id": "PYmnKOAeBYux",
        "outputId": "3918f5a1-df1b-46ff-9375-4d84dc26252f"
      },
      "execution_count": 181,
      "outputs": [
        {
          "output_type": "execute_result",
          "data": {
            "text/plain": [
              "[('Владимир Владимирович Путин', 0.023834471599109047),\n",
              " ('Дмитрий Анатольевич Медведев', 0.015678968338142196),\n",
              " ('Куренков Александр Александрович', 0.012853316306422922),\n",
              " ('Зиничев Евгений Николаевич', 0.00867459916386917),\n",
              " ('Мельник Александр Владимирович', 0.00867459916386917)]"
            ]
          },
          "metadata": {},
          "execution_count": 181
        }
      ]
    },
    {
      "cell_type": "code",
      "source": [
        "sorted(nx.degree_centrality(g).items(), key=lambda x: x[1], reverse=True)[0:10]"
      ],
      "metadata": {
        "colab": {
          "base_uri": "https://localhost:8080/"
        },
        "id": "MqLBkrp6Cden",
        "outputId": "6a658460-cb16-46c3-b73a-74b919cc6887"
      },
      "execution_count": 182,
      "outputs": [
        {
          "output_type": "execute_result",
          "data": {
            "text/plain": [
              "[('Владимир Владимирович Путин', 0.1174934725848564),\n",
              " ('Роман Сергеевич Филиппов', 0.10704960835509139),\n",
              " ('Дмитрий Анатольевич Медведев', 0.08093994778067885),\n",
              " ('Анна Юрьевна Нетребко', 0.0783289817232376),\n",
              " ('Сергей Сергеевич Прокофьев', 0.05483028720626632),\n",
              " ('Ольга Игоревна Кабо', 0.05483028720626632),\n",
              " ('Анастасия Васильевна Макеева', 0.05483028720626632),\n",
              " ('Имам Шамиль', 0.05483028720626632),\n",
              " ('Дмитрий Владимирович Соломин', 0.05483028720626632),\n",
              " ('Сергей Безруков', 0.05483028720626632)]"
            ]
          },
          "metadata": {},
          "execution_count": 182
        }
      ]
    },
    {
      "cell_type": "code",
      "source": [
        "sorted(nx.closeness_centrality(g, distance='meets').items(), key=lambda x: x[1], reverse=True)[0:10]"
      ],
      "metadata": {
        "colab": {
          "base_uri": "https://localhost:8080/"
        },
        "id": "y6DNG-g4C5KQ",
        "outputId": "c9b2dbbf-fb18-44a9-9a8d-414940749fa9"
      },
      "execution_count": 183,
      "outputs": [
        {
          "output_type": "execute_result",
          "data": {
            "text/plain": [
              "[('Анна Юрьевна Нетребко', 0.1955367906256606),\n",
              " ('Владимир Владимирович Путин', 0.19468477846607166),\n",
              " ('Пётр Ильич Чайковский', 0.17660140971527055),\n",
              " ('Сергей Васильевич Рахманинов', 0.16734141070398295),\n",
              " ('Кремлевский Александр Магистрианович', 0.16734141070398295),\n",
              " ('Клод Дебюсси', 0.16734141070398295),\n",
              " ('Максим Леонардович Шевченко', 0.15406950571711536),\n",
              " ('Роман Сергеевич Филиппов', 0.15406950571711536),\n",
              " ('Дмитрий Олегович Рогозин', 0.15120188378329424),\n",
              " ('Валентина Ивановна Матвиенко', 0.1494319620667674)]"
            ]
          },
          "metadata": {},
          "execution_count": 183
        }
      ]
    },
    {
      "cell_type": "markdown",
      "source": [
        "# Complementary recommendation algorithm"
      ],
      "metadata": {
        "id": "TlmI1sSO1L9i"
      }
    },
    {
      "cell_type": "markdown",
      "source": [
        "Препроцессинг:\n",
        "\n",
        "*   Удаление 1 предложения с информацией о дате и месте события\n",
        "*   Удаление предложения с информацией, не относяящейся к новости (например \"только отборные цитаты в нашем телеграм-канале\")\n",
        "*   Приведение к нижнему регистру\n",
        "*   Удаление знаков пунктуации\n",
        "*   Токенизация, удаление стоп-слов и лемматизация\n",
        "*   Удаление слов длины меньшей 3 символов\n",
        "\n",
        "Алгоритм рекомендаций:\n",
        "1. Person-wise dependency graph\n",
        "2. Page rank scoring of persons\n",
        "3. New feature: importance - sum of person pr scores included in article\n",
        "4. Select TopK of similar articles using tfidf\n",
        "5. Sort by importance\n"
      ],
      "metadata": {
        "id": "lLVBL2jQ1Zm_"
      }
    },
    {
      "cell_type": "code",
      "source": [
        "!pip install pymorphy2"
      ],
      "metadata": {
        "id": "R5KGj37r2cni"
      },
      "execution_count": null,
      "outputs": []
    },
    {
      "cell_type": "code",
      "source": [
        "!pip install stop_words"
      ],
      "metadata": {
        "id": "QuN1KM822pX_"
      },
      "execution_count": null,
      "outputs": []
    },
    {
      "cell_type": "code",
      "source": [
        "!pip install plsa"
      ],
      "metadata": {
        "id": "RSVqDH3L2vNw"
      },
      "execution_count": null,
      "outputs": []
    },
    {
      "cell_type": "code",
      "source": [
        "!pip install -q pyLDAvis"
      ],
      "metadata": {
        "colab": {
          "base_uri": "https://localhost:8080/"
        },
        "id": "DMdAWGhI26p7",
        "outputId": "177d6763-7af9-4174-b4b4-3014acceab09"
      },
      "execution_count": 18,
      "outputs": [
        {
          "output_type": "stream",
          "name": "stdout",
          "text": [
            "\u001b[?25l\r\u001b[K     |▏                               | 10 kB 16.8 MB/s eta 0:00:01\r\u001b[K     |▍                               | 20 kB 14.4 MB/s eta 0:00:01\r\u001b[K     |▋                               | 30 kB 9.6 MB/s eta 0:00:01\r\u001b[K     |▉                               | 40 kB 8.1 MB/s eta 0:00:01\r\u001b[K     |█                               | 51 kB 4.3 MB/s eta 0:00:01\r\u001b[K     |█▏                              | 61 kB 5.0 MB/s eta 0:00:01\r\u001b[K     |█▍                              | 71 kB 5.4 MB/s eta 0:00:01\r\u001b[K     |█▋                              | 81 kB 5.3 MB/s eta 0:00:01\r\u001b[K     |█▉                              | 92 kB 5.9 MB/s eta 0:00:01\r\u001b[K     |██                              | 102 kB 4.9 MB/s eta 0:00:01\r\u001b[K     |██▏                             | 112 kB 4.9 MB/s eta 0:00:01\r\u001b[K     |██▍                             | 122 kB 4.9 MB/s eta 0:00:01\r\u001b[K     |██▋                             | 133 kB 4.9 MB/s eta 0:00:01\r\u001b[K     |██▊                             | 143 kB 4.9 MB/s eta 0:00:01\r\u001b[K     |███                             | 153 kB 4.9 MB/s eta 0:00:01\r\u001b[K     |███▏                            | 163 kB 4.9 MB/s eta 0:00:01\r\u001b[K     |███▍                            | 174 kB 4.9 MB/s eta 0:00:01\r\u001b[K     |███▋                            | 184 kB 4.9 MB/s eta 0:00:01\r\u001b[K     |███▊                            | 194 kB 4.9 MB/s eta 0:00:01\r\u001b[K     |████                            | 204 kB 4.9 MB/s eta 0:00:01\r\u001b[K     |████▏                           | 215 kB 4.9 MB/s eta 0:00:01\r\u001b[K     |████▍                           | 225 kB 4.9 MB/s eta 0:00:01\r\u001b[K     |████▋                           | 235 kB 4.9 MB/s eta 0:00:01\r\u001b[K     |████▊                           | 245 kB 4.9 MB/s eta 0:00:01\r\u001b[K     |█████                           | 256 kB 4.9 MB/s eta 0:00:01\r\u001b[K     |█████▏                          | 266 kB 4.9 MB/s eta 0:00:01\r\u001b[K     |█████▍                          | 276 kB 4.9 MB/s eta 0:00:01\r\u001b[K     |█████▌                          | 286 kB 4.9 MB/s eta 0:00:01\r\u001b[K     |█████▊                          | 296 kB 4.9 MB/s eta 0:00:01\r\u001b[K     |██████                          | 307 kB 4.9 MB/s eta 0:00:01\r\u001b[K     |██████▏                         | 317 kB 4.9 MB/s eta 0:00:01\r\u001b[K     |██████▍                         | 327 kB 4.9 MB/s eta 0:00:01\r\u001b[K     |██████▌                         | 337 kB 4.9 MB/s eta 0:00:01\r\u001b[K     |██████▊                         | 348 kB 4.9 MB/s eta 0:00:01\r\u001b[K     |███████                         | 358 kB 4.9 MB/s eta 0:00:01\r\u001b[K     |███████▏                        | 368 kB 4.9 MB/s eta 0:00:01\r\u001b[K     |███████▎                        | 378 kB 4.9 MB/s eta 0:00:01\r\u001b[K     |███████▌                        | 389 kB 4.9 MB/s eta 0:00:01\r\u001b[K     |███████▊                        | 399 kB 4.9 MB/s eta 0:00:01\r\u001b[K     |████████                        | 409 kB 4.9 MB/s eta 0:00:01\r\u001b[K     |████████▏                       | 419 kB 4.9 MB/s eta 0:00:01\r\u001b[K     |████████▎                       | 430 kB 4.9 MB/s eta 0:00:01\r\u001b[K     |████████▌                       | 440 kB 4.9 MB/s eta 0:00:01\r\u001b[K     |████████▊                       | 450 kB 4.9 MB/s eta 0:00:01\r\u001b[K     |█████████                       | 460 kB 4.9 MB/s eta 0:00:01\r\u001b[K     |█████████▏                      | 471 kB 4.9 MB/s eta 0:00:01\r\u001b[K     |█████████▎                      | 481 kB 4.9 MB/s eta 0:00:01\r\u001b[K     |█████████▌                      | 491 kB 4.9 MB/s eta 0:00:01\r\u001b[K     |█████████▊                      | 501 kB 4.9 MB/s eta 0:00:01\r\u001b[K     |██████████                      | 512 kB 4.9 MB/s eta 0:00:01\r\u001b[K     |██████████                      | 522 kB 4.9 MB/s eta 0:00:01\r\u001b[K     |██████████▎                     | 532 kB 4.9 MB/s eta 0:00:01\r\u001b[K     |██████████▌                     | 542 kB 4.9 MB/s eta 0:00:01\r\u001b[K     |██████████▊                     | 552 kB 4.9 MB/s eta 0:00:01\r\u001b[K     |███████████                     | 563 kB 4.9 MB/s eta 0:00:01\r\u001b[K     |███████████                     | 573 kB 4.9 MB/s eta 0:00:01\r\u001b[K     |███████████▎                    | 583 kB 4.9 MB/s eta 0:00:01\r\u001b[K     |███████████▌                    | 593 kB 4.9 MB/s eta 0:00:01\r\u001b[K     |███████████▊                    | 604 kB 4.9 MB/s eta 0:00:01\r\u001b[K     |███████████▉                    | 614 kB 4.9 MB/s eta 0:00:01\r\u001b[K     |████████████                    | 624 kB 4.9 MB/s eta 0:00:01\r\u001b[K     |████████████▎                   | 634 kB 4.9 MB/s eta 0:00:01\r\u001b[K     |████████████▌                   | 645 kB 4.9 MB/s eta 0:00:01\r\u001b[K     |████████████▊                   | 655 kB 4.9 MB/s eta 0:00:01\r\u001b[K     |████████████▉                   | 665 kB 4.9 MB/s eta 0:00:01\r\u001b[K     |█████████████                   | 675 kB 4.9 MB/s eta 0:00:01\r\u001b[K     |█████████████▎                  | 686 kB 4.9 MB/s eta 0:00:01\r\u001b[K     |█████████████▌                  | 696 kB 4.9 MB/s eta 0:00:01\r\u001b[K     |█████████████▊                  | 706 kB 4.9 MB/s eta 0:00:01\r\u001b[K     |█████████████▉                  | 716 kB 4.9 MB/s eta 0:00:01\r\u001b[K     |██████████████                  | 727 kB 4.9 MB/s eta 0:00:01\r\u001b[K     |██████████████▎                 | 737 kB 4.9 MB/s eta 0:00:01\r\u001b[K     |██████████████▌                 | 747 kB 4.9 MB/s eta 0:00:01\r\u001b[K     |██████████████▋                 | 757 kB 4.9 MB/s eta 0:00:01\r\u001b[K     |██████████████▉                 | 768 kB 4.9 MB/s eta 0:00:01\r\u001b[K     |███████████████                 | 778 kB 4.9 MB/s eta 0:00:01\r\u001b[K     |███████████████▎                | 788 kB 4.9 MB/s eta 0:00:01\r\u001b[K     |███████████████▌                | 798 kB 4.9 MB/s eta 0:00:01\r\u001b[K     |███████████████▋                | 808 kB 4.9 MB/s eta 0:00:01\r\u001b[K     |███████████████▉                | 819 kB 4.9 MB/s eta 0:00:01\r\u001b[K     |████████████████                | 829 kB 4.9 MB/s eta 0:00:01\r\u001b[K     |████████████████▎               | 839 kB 4.9 MB/s eta 0:00:01\r\u001b[K     |████████████████▍               | 849 kB 4.9 MB/s eta 0:00:01\r\u001b[K     |████████████████▋               | 860 kB 4.9 MB/s eta 0:00:01\r\u001b[K     |████████████████▉               | 870 kB 4.9 MB/s eta 0:00:01\r\u001b[K     |█████████████████               | 880 kB 4.9 MB/s eta 0:00:01\r\u001b[K     |█████████████████▎              | 890 kB 4.9 MB/s eta 0:00:01\r\u001b[K     |█████████████████▍              | 901 kB 4.9 MB/s eta 0:00:01\r\u001b[K     |█████████████████▋              | 911 kB 4.9 MB/s eta 0:00:01\r\u001b[K     |█████████████████▉              | 921 kB 4.9 MB/s eta 0:00:01\r\u001b[K     |██████████████████              | 931 kB 4.9 MB/s eta 0:00:01\r\u001b[K     |██████████████████▎             | 942 kB 4.9 MB/s eta 0:00:01\r\u001b[K     |██████████████████▍             | 952 kB 4.9 MB/s eta 0:00:01\r\u001b[K     |██████████████████▋             | 962 kB 4.9 MB/s eta 0:00:01\r\u001b[K     |██████████████████▉             | 972 kB 4.9 MB/s eta 0:00:01\r\u001b[K     |███████████████████             | 983 kB 4.9 MB/s eta 0:00:01\r\u001b[K     |███████████████████▏            | 993 kB 4.9 MB/s eta 0:00:01\r\u001b[K     |███████████████████▍            | 1.0 MB 4.9 MB/s eta 0:00:01\r\u001b[K     |███████████████████▋            | 1.0 MB 4.9 MB/s eta 0:00:01\r\u001b[K     |███████████████████▉            | 1.0 MB 4.9 MB/s eta 0:00:01\r\u001b[K     |████████████████████            | 1.0 MB 4.9 MB/s eta 0:00:01\r\u001b[K     |████████████████████▏           | 1.0 MB 4.9 MB/s eta 0:00:01\r\u001b[K     |████████████████████▍           | 1.1 MB 4.9 MB/s eta 0:00:01\r\u001b[K     |████████████████████▋           | 1.1 MB 4.9 MB/s eta 0:00:01\r\u001b[K     |████████████████████▉           | 1.1 MB 4.9 MB/s eta 0:00:01\r\u001b[K     |█████████████████████           | 1.1 MB 4.9 MB/s eta 0:00:01\r\u001b[K     |█████████████████████▏          | 1.1 MB 4.9 MB/s eta 0:00:01\r\u001b[K     |█████████████████████▍          | 1.1 MB 4.9 MB/s eta 0:00:01\r\u001b[K     |█████████████████████▋          | 1.1 MB 4.9 MB/s eta 0:00:01\r\u001b[K     |█████████████████████▉          | 1.1 MB 4.9 MB/s eta 0:00:01\r\u001b[K     |██████████████████████          | 1.1 MB 4.9 MB/s eta 0:00:01\r\u001b[K     |██████████████████████▏         | 1.1 MB 4.9 MB/s eta 0:00:01\r\u001b[K     |██████████████████████▍         | 1.2 MB 4.9 MB/s eta 0:00:01\r\u001b[K     |██████████████████████▋         | 1.2 MB 4.9 MB/s eta 0:00:01\r\u001b[K     |██████████████████████▉         | 1.2 MB 4.9 MB/s eta 0:00:01\r\u001b[K     |███████████████████████         | 1.2 MB 4.9 MB/s eta 0:00:01\r\u001b[K     |███████████████████████▏        | 1.2 MB 4.9 MB/s eta 0:00:01\r\u001b[K     |███████████████████████▍        | 1.2 MB 4.9 MB/s eta 0:00:01\r\u001b[K     |███████████████████████▋        | 1.2 MB 4.9 MB/s eta 0:00:01\r\u001b[K     |███████████████████████▊        | 1.2 MB 4.9 MB/s eta 0:00:01\r\u001b[K     |████████████████████████        | 1.2 MB 4.9 MB/s eta 0:00:01\r\u001b[K     |████████████████████████▏       | 1.2 MB 4.9 MB/s eta 0:00:01\r\u001b[K     |████████████████████████▍       | 1.3 MB 4.9 MB/s eta 0:00:01\r\u001b[K     |████████████████████████▋       | 1.3 MB 4.9 MB/s eta 0:00:01\r\u001b[K     |████████████████████████▊       | 1.3 MB 4.9 MB/s eta 0:00:01\r\u001b[K     |█████████████████████████       | 1.3 MB 4.9 MB/s eta 0:00:01\r\u001b[K     |█████████████████████████▏      | 1.3 MB 4.9 MB/s eta 0:00:01\r\u001b[K     |█████████████████████████▍      | 1.3 MB 4.9 MB/s eta 0:00:01\r\u001b[K     |█████████████████████████▌      | 1.3 MB 4.9 MB/s eta 0:00:01\r\u001b[K     |█████████████████████████▊      | 1.3 MB 4.9 MB/s eta 0:00:01\r\u001b[K     |██████████████████████████      | 1.3 MB 4.9 MB/s eta 0:00:01\r\u001b[K     |██████████████████████████▏     | 1.4 MB 4.9 MB/s eta 0:00:01\r\u001b[K     |██████████████████████████▍     | 1.4 MB 4.9 MB/s eta 0:00:01\r\u001b[K     |██████████████████████████▌     | 1.4 MB 4.9 MB/s eta 0:00:01\r\u001b[K     |██████████████████████████▊     | 1.4 MB 4.9 MB/s eta 0:00:01\r\u001b[K     |███████████████████████████     | 1.4 MB 4.9 MB/s eta 0:00:01\r\u001b[K     |███████████████████████████▏    | 1.4 MB 4.9 MB/s eta 0:00:01\r\u001b[K     |███████████████████████████▍    | 1.4 MB 4.9 MB/s eta 0:00:01\r\u001b[K     |███████████████████████████▌    | 1.4 MB 4.9 MB/s eta 0:00:01\r\u001b[K     |███████████████████████████▊    | 1.4 MB 4.9 MB/s eta 0:00:01\r\u001b[K     |████████████████████████████    | 1.4 MB 4.9 MB/s eta 0:00:01\r\u001b[K     |████████████████████████████▏   | 1.5 MB 4.9 MB/s eta 0:00:01\r\u001b[K     |████████████████████████████▎   | 1.5 MB 4.9 MB/s eta 0:00:01\r\u001b[K     |████████████████████████████▌   | 1.5 MB 4.9 MB/s eta 0:00:01\r\u001b[K     |████████████████████████████▊   | 1.5 MB 4.9 MB/s eta 0:00:01\r\u001b[K     |█████████████████████████████   | 1.5 MB 4.9 MB/s eta 0:00:01\r\u001b[K     |█████████████████████████████▏  | 1.5 MB 4.9 MB/s eta 0:00:01\r\u001b[K     |█████████████████████████████▎  | 1.5 MB 4.9 MB/s eta 0:00:01\r\u001b[K     |█████████████████████████████▌  | 1.5 MB 4.9 MB/s eta 0:00:01\r\u001b[K     |█████████████████████████████▊  | 1.5 MB 4.9 MB/s eta 0:00:01\r\u001b[K     |██████████████████████████████  | 1.5 MB 4.9 MB/s eta 0:00:01\r\u001b[K     |██████████████████████████████▏ | 1.6 MB 4.9 MB/s eta 0:00:01\r\u001b[K     |██████████████████████████████▎ | 1.6 MB 4.9 MB/s eta 0:00:01\r\u001b[K     |██████████████████████████████▌ | 1.6 MB 4.9 MB/s eta 0:00:01\r\u001b[K     |██████████████████████████████▊ | 1.6 MB 4.9 MB/s eta 0:00:01\r\u001b[K     |███████████████████████████████ | 1.6 MB 4.9 MB/s eta 0:00:01\r\u001b[K     |███████████████████████████████ | 1.6 MB 4.9 MB/s eta 0:00:01\r\u001b[K     |███████████████████████████████▎| 1.6 MB 4.9 MB/s eta 0:00:01\r\u001b[K     |███████████████████████████████▌| 1.6 MB 4.9 MB/s eta 0:00:01\r\u001b[K     |███████████████████████████████▊| 1.6 MB 4.9 MB/s eta 0:00:01\r\u001b[K     |████████████████████████████████| 1.6 MB 4.9 MB/s eta 0:00:01\r\u001b[K     |████████████████████████████████| 1.7 MB 4.9 MB/s \n",
            "\u001b[?25h  Installing build dependencies ... \u001b[?25l\u001b[?25hdone\n",
            "  Getting requirements to build wheel ... \u001b[?25l\u001b[?25hdone\n",
            "  Installing backend dependencies ... \u001b[?25l\u001b[?25hdone\n",
            "    Preparing wheel metadata ... \u001b[?25l\u001b[?25hdone\n",
            "  Building wheel for pyLDAvis (PEP 517) ... \u001b[?25l\u001b[?25hdone\n"
          ]
        }
      ]
    },
    {
      "cell_type": "code",
      "source": [
        "import json\n",
        "import pandas as pd\n",
        "import copy \n",
        "import numpy as np\n",
        "import re\n",
        "import string\n",
        "import pymorphy2 \n",
        "import stop_words\n",
        "import collections\n",
        "import matplotlib.pyplot as plt\n",
        "import gc\n",
        "import plsa\n",
        "from plsa.preprocessors import *\n",
        "from plsa import Corpus, Pipeline, Visualize\n",
        "from plsa.pipeline import DEFAULT_PIPELINE\n",
        "from plsa.algorithms import PLSA\n",
        "from gensim.corpora import Dictionary\n",
        "from gensim.models import Word2Vec\n",
        "from gensim.models import LdaModel\n",
        "from gensim.models.coherencemodel import CoherenceModel\n",
        "#import pyLDAvis.gensim\n",
        "from sklearn.feature_extraction.text import TfidfVectorizer\n",
        "from sklearn.feature_extraction.text import CountVectorizer\n",
        "\n",
        "def lower_case(text):\n",
        "    return str(text).lower()\n",
        "\n",
        "def data_preprocessing(df_):\n",
        "    #delete first sentence\n",
        "    for i in df_.index:\n",
        "        text = df_.at[i, 'text'] \n",
        "        tmp_split = text.split('Радио Sputnik')\n",
        "        if(len(tmp_split) >= 2):\n",
        "            df_.at[i, 'text']  = tmp_split[1]\n",
        "        tmp_split = text.split('РИА Новости')\n",
        "        if(len(tmp_split) >= 2):\n",
        "            df_.at[i, 'text']  = tmp_split[1]\n",
        "\n",
        "    df_['text'] = df_['text'].apply(lower_case)\n",
        "\n",
        "    #delete advertising\n",
        "    for i in df_.index:\n",
        "        df_.at[i, 'text'] = df_.at[i, 'text'].replace('только отборные цитаты в нашем телеграм-канале', '')\n",
        "        df_.at[i, 'text'] = df_.at[i, 'text'].replace('sputnik', '')\n",
        "        df_.at[i, 'text'] = df_.at[i, 'text'].replace('коротко и по делу', '')\n",
        "\n",
        "    #delete punctuation\n",
        "    regex_punct = re.compile('[%s]' % re.escape(string.punctuation))\n",
        "    for i in df_.index:\n",
        "        df_.at[i, 'text'] = regex_punct.sub('', df_.at[i, 'text'])\n",
        "        df_.at[i, 'text'] = df_.at[i, 'text'].replace('—', ' ')\n",
        "    \n",
        "    #tokenization + lemmatization\n",
        "    morph = pymorphy2.MorphAnalyzer()\n",
        "    normal_tokens = []\n",
        "    stopwords = stop_words.get_stop_words('ru')\n",
        "    for text in df_['text']:\n",
        "        tmp_tokens = text.split()\n",
        "        tmp_tokens_without_stopwords = []\n",
        "        for token in tmp_tokens:\n",
        "            if token not in stopwords:\n",
        "                normal_token = morph.parse(token)[0].normal_form\n",
        "                if len(normal_token) > 1:\n",
        "                    tmp_tokens_without_stopwords.append(normal_token)\n",
        "        normal_tokens.append(tmp_tokens_without_stopwords)\n",
        "    df_['source_text'] = df_.text\n",
        "    df_.text = np.array(normal_tokens)\n",
        "\n",
        "    return df_"
      ],
      "metadata": {
        "id": "_KF3smpF3CSs"
      },
      "execution_count": 278,
      "outputs": []
    },
    {
      "cell_type": "code",
      "source": [
        "df_corpus = pd.read_csv('persons_wiki.csv', index_col=0, header = 0, names=['article_id','category', 'text','wiki_id', 'person'])\n",
        "df_corpus.person = df_corpus.person.apply(literal_eval)\n",
        "df_corpus = df_corpus.drop(columns = ['wiki_id'])\n",
        "#df_corpus = pd.read_csv('persons_.csv', index_col=0, header = 0, names=['article_id','category', 'text', 'person'])\n",
        "#df = pd.read_csv('persons_large.csv', index_col=None, header = 0, names=['article_id', 'text', 'person'])\n",
        "df_corpus.head()"
      ],
      "metadata": {
        "colab": {
          "base_uri": "https://localhost:8080/",
          "height": 237
        },
        "id": "S37I87tJBdhl",
        "outputId": "dd81d2b8-ebae-4476-e5de-e65851f1370c"
      },
      "execution_count": 279,
      "outputs": [
        {
          "output_type": "execute_result",
          "data": {
            "text/plain": [
              "            category                                               text  \\\n",
              "article_id                                                                \n",
              "0           politics  МОСКВА, 27 мая — РИА Новости. Депутат Госдумы ...   \n",
              "1           politics  МОСКВА, 26 мая - РИА Новости. \"Западным друзья...   \n",
              "2           politics  МОСКВА, 26 мая/ Радио Sputnik. Канцлер Германи...   \n",
              "3           politics  МОСКВА, 26 мая - РИА Новости. У России есть пл...   \n",
              "4           politics  МОСКВА, 26 мая - РИА Новости. В основе работы ...   \n",
              "\n",
              "                                                       person  \n",
              "article_id                                                     \n",
              "0           [Вячеслав Викторович Володин, Аршба Отари Ионо...  \n",
              "1                                  [Сергей Викторович Лавров]  \n",
              "2           [Владимир Андреевич Пучков, Дмитрий Анатольеви...  \n",
              "3           [Кабус бен Саид, Николай Павлович Лавёров, Сер...  \n",
              "4                               [Вячеслав Викторович Володин]  "
            ],
            "text/html": [
              "\n",
              "  <div id=\"df-a9c5317f-71e4-478a-ac69-6c68a9cc03f1\">\n",
              "    <div class=\"colab-df-container\">\n",
              "      <div>\n",
              "<style scoped>\n",
              "    .dataframe tbody tr th:only-of-type {\n",
              "        vertical-align: middle;\n",
              "    }\n",
              "\n",
              "    .dataframe tbody tr th {\n",
              "        vertical-align: top;\n",
              "    }\n",
              "\n",
              "    .dataframe thead th {\n",
              "        text-align: right;\n",
              "    }\n",
              "</style>\n",
              "<table border=\"1\" class=\"dataframe\">\n",
              "  <thead>\n",
              "    <tr style=\"text-align: right;\">\n",
              "      <th></th>\n",
              "      <th>category</th>\n",
              "      <th>text</th>\n",
              "      <th>person</th>\n",
              "    </tr>\n",
              "    <tr>\n",
              "      <th>article_id</th>\n",
              "      <th></th>\n",
              "      <th></th>\n",
              "      <th></th>\n",
              "    </tr>\n",
              "  </thead>\n",
              "  <tbody>\n",
              "    <tr>\n",
              "      <th>0</th>\n",
              "      <td>politics</td>\n",
              "      <td>МОСКВА, 27 мая — РИА Новости. Депутат Госдумы ...</td>\n",
              "      <td>[Вячеслав Викторович Володин, Аршба Отари Ионо...</td>\n",
              "    </tr>\n",
              "    <tr>\n",
              "      <th>1</th>\n",
              "      <td>politics</td>\n",
              "      <td>МОСКВА, 26 мая - РИА Новости. \"Западным друзья...</td>\n",
              "      <td>[Сергей Викторович Лавров]</td>\n",
              "    </tr>\n",
              "    <tr>\n",
              "      <th>2</th>\n",
              "      <td>politics</td>\n",
              "      <td>МОСКВА, 26 мая/ Радио Sputnik. Канцлер Германи...</td>\n",
              "      <td>[Владимир Андреевич Пучков, Дмитрий Анатольеви...</td>\n",
              "    </tr>\n",
              "    <tr>\n",
              "      <th>3</th>\n",
              "      <td>politics</td>\n",
              "      <td>МОСКВА, 26 мая - РИА Новости. У России есть пл...</td>\n",
              "      <td>[Кабус бен Саид, Николай Павлович Лавёров, Сер...</td>\n",
              "    </tr>\n",
              "    <tr>\n",
              "      <th>4</th>\n",
              "      <td>politics</td>\n",
              "      <td>МОСКВА, 26 мая - РИА Новости. В основе работы ...</td>\n",
              "      <td>[Вячеслав Викторович Володин]</td>\n",
              "    </tr>\n",
              "  </tbody>\n",
              "</table>\n",
              "</div>\n",
              "      <button class=\"colab-df-convert\" onclick=\"convertToInteractive('df-a9c5317f-71e4-478a-ac69-6c68a9cc03f1')\"\n",
              "              title=\"Convert this dataframe to an interactive table.\"\n",
              "              style=\"display:none;\">\n",
              "        \n",
              "  <svg xmlns=\"http://www.w3.org/2000/svg\" height=\"24px\"viewBox=\"0 0 24 24\"\n",
              "       width=\"24px\">\n",
              "    <path d=\"M0 0h24v24H0V0z\" fill=\"none\"/>\n",
              "    <path d=\"M18.56 5.44l.94 2.06.94-2.06 2.06-.94-2.06-.94-.94-2.06-.94 2.06-2.06.94zm-11 1L8.5 8.5l.94-2.06 2.06-.94-2.06-.94L8.5 2.5l-.94 2.06-2.06.94zm10 10l.94 2.06.94-2.06 2.06-.94-2.06-.94-.94-2.06-.94 2.06-2.06.94z\"/><path d=\"M17.41 7.96l-1.37-1.37c-.4-.4-.92-.59-1.43-.59-.52 0-1.04.2-1.43.59L10.3 9.45l-7.72 7.72c-.78.78-.78 2.05 0 2.83L4 21.41c.39.39.9.59 1.41.59.51 0 1.02-.2 1.41-.59l7.78-7.78 2.81-2.81c.8-.78.8-2.07 0-2.86zM5.41 20L4 18.59l7.72-7.72 1.47 1.35L5.41 20z\"/>\n",
              "  </svg>\n",
              "      </button>\n",
              "      \n",
              "  <style>\n",
              "    .colab-df-container {\n",
              "      display:flex;\n",
              "      flex-wrap:wrap;\n",
              "      gap: 12px;\n",
              "    }\n",
              "\n",
              "    .colab-df-convert {\n",
              "      background-color: #E8F0FE;\n",
              "      border: none;\n",
              "      border-radius: 50%;\n",
              "      cursor: pointer;\n",
              "      display: none;\n",
              "      fill: #1967D2;\n",
              "      height: 32px;\n",
              "      padding: 0 0 0 0;\n",
              "      width: 32px;\n",
              "    }\n",
              "\n",
              "    .colab-df-convert:hover {\n",
              "      background-color: #E2EBFA;\n",
              "      box-shadow: 0px 1px 2px rgba(60, 64, 67, 0.3), 0px 1px 3px 1px rgba(60, 64, 67, 0.15);\n",
              "      fill: #174EA6;\n",
              "    }\n",
              "\n",
              "    [theme=dark] .colab-df-convert {\n",
              "      background-color: #3B4455;\n",
              "      fill: #D2E3FC;\n",
              "    }\n",
              "\n",
              "    [theme=dark] .colab-df-convert:hover {\n",
              "      background-color: #434B5C;\n",
              "      box-shadow: 0px 1px 3px 1px rgba(0, 0, 0, 0.15);\n",
              "      filter: drop-shadow(0px 1px 2px rgba(0, 0, 0, 0.3));\n",
              "      fill: #FFFFFF;\n",
              "    }\n",
              "  </style>\n",
              "\n",
              "      <script>\n",
              "        const buttonEl =\n",
              "          document.querySelector('#df-a9c5317f-71e4-478a-ac69-6c68a9cc03f1 button.colab-df-convert');\n",
              "        buttonEl.style.display =\n",
              "          google.colab.kernel.accessAllowed ? 'block' : 'none';\n",
              "\n",
              "        async function convertToInteractive(key) {\n",
              "          const element = document.querySelector('#df-a9c5317f-71e4-478a-ac69-6c68a9cc03f1');\n",
              "          const dataTable =\n",
              "            await google.colab.kernel.invokeFunction('convertToInteractive',\n",
              "                                                     [key], {});\n",
              "          if (!dataTable) return;\n",
              "\n",
              "          const docLinkHtml = 'Like what you see? Visit the ' +\n",
              "            '<a target=\"_blank\" href=https://colab.research.google.com/notebooks/data_table.ipynb>data table notebook</a>'\n",
              "            + ' to learn more about interactive tables.';\n",
              "          element.innerHTML = '';\n",
              "          dataTable['output_type'] = 'display_data';\n",
              "          await google.colab.output.renderOutput(dataTable, element);\n",
              "          const docLink = document.createElement('div');\n",
              "          docLink.innerHTML = docLinkHtml;\n",
              "          element.appendChild(docLink);\n",
              "        }\n",
              "      </script>\n",
              "    </div>\n",
              "  </div>\n",
              "  "
            ]
          },
          "metadata": {},
          "execution_count": 279
        }
      ]
    },
    {
      "cell_type": "code",
      "source": [
        "df_corpus = data_preprocessing(df_corpus)\n",
        "df_corpus.head()"
      ],
      "metadata": {
        "colab": {
          "base_uri": "https://localhost:8080/",
          "height": 237
        },
        "id": "c-6Zgaqi3N3Y",
        "outputId": "62fdf528-5ea7-411e-d65c-437b7d28bfda"
      },
      "execution_count": 280,
      "outputs": [
        {
          "output_type": "execute_result",
          "data": {
            "text/plain": [
              "            category                                               text  \\\n",
              "article_id                                                                \n",
              "0           politics  [депутат, госдума, обязать, присутствовать, пл...   \n",
              "1           politics  [западный, друг, россия, избавляться, параноид...   \n",
              "2           politics  [канцлер, германия, олафа, шольц, поддерживать...   \n",
              "3           politics  [россия, план, развивать, сотрудничество, оман...   \n",
              "4           politics  [основа, работа, госдума, должный, самоорганиз...   \n",
              "\n",
              "                                                       person  \\\n",
              "article_id                                                      \n",
              "0           [Вячеслав Викторович Володин, Аршба Отари Ионо...   \n",
              "1                                  [Сергей Викторович Лавров]   \n",
              "2           [Владимир Андреевич Пучков, Дмитрий Анатольеви...   \n",
              "3           [Кабус бен Саид, Николай Павлович Лавёров, Сер...   \n",
              "4                               [Вячеслав Викторович Володин]   \n",
              "\n",
              "                                                  source_text  \n",
              "article_id                                                     \n",
              "0            депутат госдумы обязан присутствовать во врем...  \n",
              "1            западным друзьям россии пора избавляться от п...  \n",
              "2            канцлер германии олаф шольц поддерживает влад...  \n",
              "3            у россии есть планы развивать сотрудничество ...  \n",
              "4            в основе работы госдумы должна быть самоорган...  "
            ],
            "text/html": [
              "\n",
              "  <div id=\"df-2dcac9a9-0f7d-48f9-9a4b-925f840b4b31\">\n",
              "    <div class=\"colab-df-container\">\n",
              "      <div>\n",
              "<style scoped>\n",
              "    .dataframe tbody tr th:only-of-type {\n",
              "        vertical-align: middle;\n",
              "    }\n",
              "\n",
              "    .dataframe tbody tr th {\n",
              "        vertical-align: top;\n",
              "    }\n",
              "\n",
              "    .dataframe thead th {\n",
              "        text-align: right;\n",
              "    }\n",
              "</style>\n",
              "<table border=\"1\" class=\"dataframe\">\n",
              "  <thead>\n",
              "    <tr style=\"text-align: right;\">\n",
              "      <th></th>\n",
              "      <th>category</th>\n",
              "      <th>text</th>\n",
              "      <th>person</th>\n",
              "      <th>source_text</th>\n",
              "    </tr>\n",
              "    <tr>\n",
              "      <th>article_id</th>\n",
              "      <th></th>\n",
              "      <th></th>\n",
              "      <th></th>\n",
              "      <th></th>\n",
              "    </tr>\n",
              "  </thead>\n",
              "  <tbody>\n",
              "    <tr>\n",
              "      <th>0</th>\n",
              "      <td>politics</td>\n",
              "      <td>[депутат, госдума, обязать, присутствовать, пл...</td>\n",
              "      <td>[Вячеслав Викторович Володин, Аршба Отари Ионо...</td>\n",
              "      <td>депутат госдумы обязан присутствовать во врем...</td>\n",
              "    </tr>\n",
              "    <tr>\n",
              "      <th>1</th>\n",
              "      <td>politics</td>\n",
              "      <td>[западный, друг, россия, избавляться, параноид...</td>\n",
              "      <td>[Сергей Викторович Лавров]</td>\n",
              "      <td>западным друзьям россии пора избавляться от п...</td>\n",
              "    </tr>\n",
              "    <tr>\n",
              "      <th>2</th>\n",
              "      <td>politics</td>\n",
              "      <td>[канцлер, германия, олафа, шольц, поддерживать...</td>\n",
              "      <td>[Владимир Андреевич Пучков, Дмитрий Анатольеви...</td>\n",
              "      <td>канцлер германии олаф шольц поддерживает влад...</td>\n",
              "    </tr>\n",
              "    <tr>\n",
              "      <th>3</th>\n",
              "      <td>politics</td>\n",
              "      <td>[россия, план, развивать, сотрудничество, оман...</td>\n",
              "      <td>[Кабус бен Саид, Николай Павлович Лавёров, Сер...</td>\n",
              "      <td>у россии есть планы развивать сотрудничество ...</td>\n",
              "    </tr>\n",
              "    <tr>\n",
              "      <th>4</th>\n",
              "      <td>politics</td>\n",
              "      <td>[основа, работа, госдума, должный, самоорганиз...</td>\n",
              "      <td>[Вячеслав Викторович Володин]</td>\n",
              "      <td>в основе работы госдумы должна быть самоорган...</td>\n",
              "    </tr>\n",
              "  </tbody>\n",
              "</table>\n",
              "</div>\n",
              "      <button class=\"colab-df-convert\" onclick=\"convertToInteractive('df-2dcac9a9-0f7d-48f9-9a4b-925f840b4b31')\"\n",
              "              title=\"Convert this dataframe to an interactive table.\"\n",
              "              style=\"display:none;\">\n",
              "        \n",
              "  <svg xmlns=\"http://www.w3.org/2000/svg\" height=\"24px\"viewBox=\"0 0 24 24\"\n",
              "       width=\"24px\">\n",
              "    <path d=\"M0 0h24v24H0V0z\" fill=\"none\"/>\n",
              "    <path d=\"M18.56 5.44l.94 2.06.94-2.06 2.06-.94-2.06-.94-.94-2.06-.94 2.06-2.06.94zm-11 1L8.5 8.5l.94-2.06 2.06-.94-2.06-.94L8.5 2.5l-.94 2.06-2.06.94zm10 10l.94 2.06.94-2.06 2.06-.94-2.06-.94-.94-2.06-.94 2.06-2.06.94z\"/><path d=\"M17.41 7.96l-1.37-1.37c-.4-.4-.92-.59-1.43-.59-.52 0-1.04.2-1.43.59L10.3 9.45l-7.72 7.72c-.78.78-.78 2.05 0 2.83L4 21.41c.39.39.9.59 1.41.59.51 0 1.02-.2 1.41-.59l7.78-7.78 2.81-2.81c.8-.78.8-2.07 0-2.86zM5.41 20L4 18.59l7.72-7.72 1.47 1.35L5.41 20z\"/>\n",
              "  </svg>\n",
              "      </button>\n",
              "      \n",
              "  <style>\n",
              "    .colab-df-container {\n",
              "      display:flex;\n",
              "      flex-wrap:wrap;\n",
              "      gap: 12px;\n",
              "    }\n",
              "\n",
              "    .colab-df-convert {\n",
              "      background-color: #E8F0FE;\n",
              "      border: none;\n",
              "      border-radius: 50%;\n",
              "      cursor: pointer;\n",
              "      display: none;\n",
              "      fill: #1967D2;\n",
              "      height: 32px;\n",
              "      padding: 0 0 0 0;\n",
              "      width: 32px;\n",
              "    }\n",
              "\n",
              "    .colab-df-convert:hover {\n",
              "      background-color: #E2EBFA;\n",
              "      box-shadow: 0px 1px 2px rgba(60, 64, 67, 0.3), 0px 1px 3px 1px rgba(60, 64, 67, 0.15);\n",
              "      fill: #174EA6;\n",
              "    }\n",
              "\n",
              "    [theme=dark] .colab-df-convert {\n",
              "      background-color: #3B4455;\n",
              "      fill: #D2E3FC;\n",
              "    }\n",
              "\n",
              "    [theme=dark] .colab-df-convert:hover {\n",
              "      background-color: #434B5C;\n",
              "      box-shadow: 0px 1px 3px 1px rgba(0, 0, 0, 0.15);\n",
              "      filter: drop-shadow(0px 1px 2px rgba(0, 0, 0, 0.3));\n",
              "      fill: #FFFFFF;\n",
              "    }\n",
              "  </style>\n",
              "\n",
              "      <script>\n",
              "        const buttonEl =\n",
              "          document.querySelector('#df-2dcac9a9-0f7d-48f9-9a4b-925f840b4b31 button.colab-df-convert');\n",
              "        buttonEl.style.display =\n",
              "          google.colab.kernel.accessAllowed ? 'block' : 'none';\n",
              "\n",
              "        async function convertToInteractive(key) {\n",
              "          const element = document.querySelector('#df-2dcac9a9-0f7d-48f9-9a4b-925f840b4b31');\n",
              "          const dataTable =\n",
              "            await google.colab.kernel.invokeFunction('convertToInteractive',\n",
              "                                                     [key], {});\n",
              "          if (!dataTable) return;\n",
              "\n",
              "          const docLinkHtml = 'Like what you see? Visit the ' +\n",
              "            '<a target=\"_blank\" href=https://colab.research.google.com/notebooks/data_table.ipynb>data table notebook</a>'\n",
              "            + ' to learn more about interactive tables.';\n",
              "          element.innerHTML = '';\n",
              "          dataTable['output_type'] = 'display_data';\n",
              "          await google.colab.output.renderOutput(dataTable, element);\n",
              "          const docLink = document.createElement('div');\n",
              "          docLink.innerHTML = docLinkHtml;\n",
              "          element.appendChild(docLink);\n",
              "        }\n",
              "      </script>\n",
              "    </div>\n",
              "  </div>\n",
              "  "
            ]
          },
          "metadata": {},
          "execution_count": 280
        }
      ]
    },
    {
      "cell_type": "code",
      "source": [
        "sens_scores = nx.pagerank(g, alpha=0.9, weight='meets')\n",
        "sen_rank = sorted(sens_scores.items(), key=lambda x: x[1], reverse=True)"
      ],
      "metadata": {
        "id": "HGTk7Pn6R0KB"
      },
      "execution_count": 281,
      "outputs": []
    },
    {
      "cell_type": "code",
      "source": [
        "pr_scores = dict(sen_rank)"
      ],
      "metadata": {
        "id": "WKmzC7cAR167"
      },
      "execution_count": 282,
      "outputs": []
    },
    {
      "cell_type": "code",
      "source": [
        "persons_list = df_corpus.person\n",
        "importance = []\n",
        "for persons in persons_list:\n",
        "    importance.append(sum([pr_scores[person] for person in persons if person in pr_scores]))\n",
        "\n",
        "df_corpus['importance'] = importance"
      ],
      "metadata": {
        "id": "3K0trEXCRjYr"
      },
      "execution_count": 283,
      "outputs": []
    },
    {
      "cell_type": "code",
      "source": [
        "df_corpus.sort_values(by=['importance'], ascending = False).head()"
      ],
      "metadata": {
        "colab": {
          "base_uri": "https://localhost:8080/",
          "height": 237
        },
        "id": "eDzZqKtmSW3q",
        "outputId": "7e7b8b77-83e1-4ad3-d12b-29ceef917178"
      },
      "execution_count": 284,
      "outputs": [
        {
          "output_type": "execute_result",
          "data": {
            "text/plain": [
              "            category                                               text  \\\n",
              "article_id                                                                \n",
              "30          politics  [совет, федерация, поддержать, кандидатура, ал...   \n",
              "27          politics  [владимир, путин, подписать, указ, назначение,...   \n",
              "41          politics  [профильный, комитет, совет, федерация, поддер...   \n",
              "167          culture  [московский, кинотеатр, художественный, пройти...   \n",
              "22          politics  [президент, россия, владимир, путин, представи...   \n",
              "\n",
              "                                                       person  \\\n",
              "article_id                                                      \n",
              "30          [Ольга Сергеевна Кузенкова, Зиничев Евгений Ни...   \n",
              "27          [Ольга Сергеевна Кузенкова, Зиничев Евгений Ни...   \n",
              "41          [Зиничев Евгений Николаевич, Дмитрий Анатольев...   \n",
              "167         [Новиков Иван, Роман Сергеевич Филиппов, Крист...   \n",
              "22          [Александр Гамильтон, Мельник Александр Владим...   \n",
              "\n",
              "                                                  source_text  importance  \n",
              "article_id                                                                 \n",
              "30           совет федерации поддержал кандидатуру алексан...    0.085808  \n",
              "27           владимир путин подписал указ о назначении але...    0.079553  \n",
              "41           профильные комитеты совета федерации поддержа...    0.075382  \n",
              "167          в московском кинотеатре художественный прошла...    0.064990  \n",
              "22           президент россии владимир путин представил но...    0.062030  "
            ],
            "text/html": [
              "\n",
              "  <div id=\"df-b48ecadc-d6b4-411b-8eeb-006305089a9c\">\n",
              "    <div class=\"colab-df-container\">\n",
              "      <div>\n",
              "<style scoped>\n",
              "    .dataframe tbody tr th:only-of-type {\n",
              "        vertical-align: middle;\n",
              "    }\n",
              "\n",
              "    .dataframe tbody tr th {\n",
              "        vertical-align: top;\n",
              "    }\n",
              "\n",
              "    .dataframe thead th {\n",
              "        text-align: right;\n",
              "    }\n",
              "</style>\n",
              "<table border=\"1\" class=\"dataframe\">\n",
              "  <thead>\n",
              "    <tr style=\"text-align: right;\">\n",
              "      <th></th>\n",
              "      <th>category</th>\n",
              "      <th>text</th>\n",
              "      <th>person</th>\n",
              "      <th>source_text</th>\n",
              "      <th>importance</th>\n",
              "    </tr>\n",
              "    <tr>\n",
              "      <th>article_id</th>\n",
              "      <th></th>\n",
              "      <th></th>\n",
              "      <th></th>\n",
              "      <th></th>\n",
              "      <th></th>\n",
              "    </tr>\n",
              "  </thead>\n",
              "  <tbody>\n",
              "    <tr>\n",
              "      <th>30</th>\n",
              "      <td>politics</td>\n",
              "      <td>[совет, федерация, поддержать, кандидатура, ал...</td>\n",
              "      <td>[Ольга Сергеевна Кузенкова, Зиничев Евгений Ни...</td>\n",
              "      <td>совет федерации поддержал кандидатуру алексан...</td>\n",
              "      <td>0.085808</td>\n",
              "    </tr>\n",
              "    <tr>\n",
              "      <th>27</th>\n",
              "      <td>politics</td>\n",
              "      <td>[владимир, путин, подписать, указ, назначение,...</td>\n",
              "      <td>[Ольга Сергеевна Кузенкова, Зиничев Евгений Ни...</td>\n",
              "      <td>владимир путин подписал указ о назначении але...</td>\n",
              "      <td>0.079553</td>\n",
              "    </tr>\n",
              "    <tr>\n",
              "      <th>41</th>\n",
              "      <td>politics</td>\n",
              "      <td>[профильный, комитет, совет, федерация, поддер...</td>\n",
              "      <td>[Зиничев Евгений Николаевич, Дмитрий Анатольев...</td>\n",
              "      <td>профильные комитеты совета федерации поддержа...</td>\n",
              "      <td>0.075382</td>\n",
              "    </tr>\n",
              "    <tr>\n",
              "      <th>167</th>\n",
              "      <td>culture</td>\n",
              "      <td>[московский, кинотеатр, художественный, пройти...</td>\n",
              "      <td>[Новиков Иван, Роман Сергеевич Филиппов, Крист...</td>\n",
              "      <td>в московском кинотеатре художественный прошла...</td>\n",
              "      <td>0.064990</td>\n",
              "    </tr>\n",
              "    <tr>\n",
              "      <th>22</th>\n",
              "      <td>politics</td>\n",
              "      <td>[президент, россия, владимир, путин, представи...</td>\n",
              "      <td>[Александр Гамильтон, Мельник Александр Владим...</td>\n",
              "      <td>президент россии владимир путин представил но...</td>\n",
              "      <td>0.062030</td>\n",
              "    </tr>\n",
              "  </tbody>\n",
              "</table>\n",
              "</div>\n",
              "      <button class=\"colab-df-convert\" onclick=\"convertToInteractive('df-b48ecadc-d6b4-411b-8eeb-006305089a9c')\"\n",
              "              title=\"Convert this dataframe to an interactive table.\"\n",
              "              style=\"display:none;\">\n",
              "        \n",
              "  <svg xmlns=\"http://www.w3.org/2000/svg\" height=\"24px\"viewBox=\"0 0 24 24\"\n",
              "       width=\"24px\">\n",
              "    <path d=\"M0 0h24v24H0V0z\" fill=\"none\"/>\n",
              "    <path d=\"M18.56 5.44l.94 2.06.94-2.06 2.06-.94-2.06-.94-.94-2.06-.94 2.06-2.06.94zm-11 1L8.5 8.5l.94-2.06 2.06-.94-2.06-.94L8.5 2.5l-.94 2.06-2.06.94zm10 10l.94 2.06.94-2.06 2.06-.94-2.06-.94-.94-2.06-.94 2.06-2.06.94z\"/><path d=\"M17.41 7.96l-1.37-1.37c-.4-.4-.92-.59-1.43-.59-.52 0-1.04.2-1.43.59L10.3 9.45l-7.72 7.72c-.78.78-.78 2.05 0 2.83L4 21.41c.39.39.9.59 1.41.59.51 0 1.02-.2 1.41-.59l7.78-7.78 2.81-2.81c.8-.78.8-2.07 0-2.86zM5.41 20L4 18.59l7.72-7.72 1.47 1.35L5.41 20z\"/>\n",
              "  </svg>\n",
              "      </button>\n",
              "      \n",
              "  <style>\n",
              "    .colab-df-container {\n",
              "      display:flex;\n",
              "      flex-wrap:wrap;\n",
              "      gap: 12px;\n",
              "    }\n",
              "\n",
              "    .colab-df-convert {\n",
              "      background-color: #E8F0FE;\n",
              "      border: none;\n",
              "      border-radius: 50%;\n",
              "      cursor: pointer;\n",
              "      display: none;\n",
              "      fill: #1967D2;\n",
              "      height: 32px;\n",
              "      padding: 0 0 0 0;\n",
              "      width: 32px;\n",
              "    }\n",
              "\n",
              "    .colab-df-convert:hover {\n",
              "      background-color: #E2EBFA;\n",
              "      box-shadow: 0px 1px 2px rgba(60, 64, 67, 0.3), 0px 1px 3px 1px rgba(60, 64, 67, 0.15);\n",
              "      fill: #174EA6;\n",
              "    }\n",
              "\n",
              "    [theme=dark] .colab-df-convert {\n",
              "      background-color: #3B4455;\n",
              "      fill: #D2E3FC;\n",
              "    }\n",
              "\n",
              "    [theme=dark] .colab-df-convert:hover {\n",
              "      background-color: #434B5C;\n",
              "      box-shadow: 0px 1px 3px 1px rgba(0, 0, 0, 0.15);\n",
              "      filter: drop-shadow(0px 1px 2px rgba(0, 0, 0, 0.3));\n",
              "      fill: #FFFFFF;\n",
              "    }\n",
              "  </style>\n",
              "\n",
              "      <script>\n",
              "        const buttonEl =\n",
              "          document.querySelector('#df-b48ecadc-d6b4-411b-8eeb-006305089a9c button.colab-df-convert');\n",
              "        buttonEl.style.display =\n",
              "          google.colab.kernel.accessAllowed ? 'block' : 'none';\n",
              "\n",
              "        async function convertToInteractive(key) {\n",
              "          const element = document.querySelector('#df-b48ecadc-d6b4-411b-8eeb-006305089a9c');\n",
              "          const dataTable =\n",
              "            await google.colab.kernel.invokeFunction('convertToInteractive',\n",
              "                                                     [key], {});\n",
              "          if (!dataTable) return;\n",
              "\n",
              "          const docLinkHtml = 'Like what you see? Visit the ' +\n",
              "            '<a target=\"_blank\" href=https://colab.research.google.com/notebooks/data_table.ipynb>data table notebook</a>'\n",
              "            + ' to learn more about interactive tables.';\n",
              "          element.innerHTML = '';\n",
              "          dataTable['output_type'] = 'display_data';\n",
              "          await google.colab.output.renderOutput(dataTable, element);\n",
              "          const docLink = document.createElement('div');\n",
              "          docLink.innerHTML = docLinkHtml;\n",
              "          element.appendChild(docLink);\n",
              "        }\n",
              "      </script>\n",
              "    </div>\n",
              "  </div>\n",
              "  "
            ]
          },
          "metadata": {},
          "execution_count": 284
        }
      ]
    },
    {
      "cell_type": "code",
      "source": [
        "train_data = []\n",
        "for text in df_corpus.text.values:\n",
        "    train_data.append([word for word in text])"
      ],
      "metadata": {
        "id": "I0keZ0S6DSlU"
      },
      "execution_count": 285,
      "outputs": []
    },
    {
      "cell_type": "code",
      "source": [
        "min_count  = 2\n",
        "model_word2vec_plsa = Word2Vec(\n",
        "        train_data,\n",
        "        size=150,\n",
        "        window=4,\n",
        "        min_count=min_count,\n",
        "        workers=10,\n",
        "        iter=10)"
      ],
      "metadata": {
        "id": "9cKGzL6n4vf7"
      },
      "execution_count": 286,
      "outputs": []
    },
    {
      "cell_type": "code",
      "source": [
        "text = df_corpus.text.values\n",
        "text = [[k for k in tex if tex.count(k) >= min_count] for tex in text]\n",
        "df_corpus.text = text"
      ],
      "metadata": {
        "id": "zvLk02DhOiiw"
      },
      "execution_count": 287,
      "outputs": []
    },
    {
      "cell_type": "code",
      "source": [
        "from tqdm import tqdm\n",
        "import warnings\n",
        "warnings.filterwarnings(\"ignore\")\n",
        "\n",
        "n = df_corpus.text.values.shape[0]\n",
        "similarity_matrix = np.zeros((n, n))\n",
        "text = df_corpus.text.values\n",
        "\n",
        "for i in tqdm(range(n)):\n",
        "    for j in range(i + 1, n):\n",
        "        \n",
        "        similarity_matrix[i][j] = 1 / (1 + model_word2vec_plsa.wmdistance(text[i], text[j]))\n",
        "        similarity_matrix[j][i] =  similarity_matrix[i][j]\n",
        "\n"
      ],
      "metadata": {
        "colab": {
          "base_uri": "https://localhost:8080/"
        },
        "id": "TJEXuX9CIjj5",
        "outputId": "48717687-7925-4852-a956-b2cf211b668d"
      },
      "execution_count": 288,
      "outputs": [
        {
          "output_type": "stream",
          "name": "stderr",
          "text": [
            "100%|██████████| 250/250 [01:30<00:00,  2.75it/s]\n"
          ]
        }
      ]
    },
    {
      "cell_type": "code",
      "source": [
        "topk=np.flip(np.argsort(similarity_matrix), axis=1)[:, 1:10]\n",
        "topk_values = []\n",
        "for i in range(topk.shape[0]):\n",
        "    topk_values.append(np.take(similarity_matrix[i], topk[i]))\n",
        "topk_values = np.array(topk_values)"
      ],
      "metadata": {
        "id": "7V1RWcUSOCmc"
      },
      "execution_count": 289,
      "outputs": []
    },
    {
      "cell_type": "code",
      "source": [
        "def get_recommendations(article_id):\n",
        "    result = df_corpus.loc[topk[article_id]]\n",
        "    result = result.sort_values(by=['importance'], ascending=False)\n",
        "    return result"
      ],
      "metadata": {
        "id": "8oohePY4PS3k"
      },
      "execution_count": 290,
      "outputs": []
    },
    {
      "cell_type": "code",
      "source": [
        "source_id  = 0 \n",
        "recs = get_recommendations(source_id)\n",
        "rec_ids = recs.index.values\n",
        "source_text = df_corpus.loc[[source_id]].source_text.values\n",
        "rec_texts =  df_corpus.loc[rec_ids].source_text.values\n",
        "source_text"
      ],
      "metadata": {
        "colab": {
          "base_uri": "https://localhost:8080/"
        },
        "id": "bnP3_EgDXjs_",
        "outputId": "b1706f4d-9bb7-49c4-8971-e19f4035d2df"
      },
      "execution_count": 291,
      "outputs": [
        {
          "output_type": "execute_result",
          "data": {
            "text/plain": [
              "array([' депутат госдумы обязан присутствовать во время пленарных заседаний палаты за прогул у парламентария могут вычесть среднедневной заработок комиссия гд по регламенту ведет специальный учет по количеству присутствующих и отсутствующих на каждом заседании рассказала '],\n",
              "      dtype=object)"
            ]
          },
          "metadata": {},
          "execution_count": 291
        }
      ]
    },
    {
      "cell_type": "code",
      "source": [
        "rec_texts[0]"
      ],
      "metadata": {
        "colab": {
          "base_uri": "https://localhost:8080/",
          "height": 87
        },
        "id": "61nUAQjtYAdp",
        "outputId": "6edd4ce6-93f2-448c-eed7-29dbe86e8627"
      },
      "execution_count": 292,
      "outputs": [
        {
          "output_type": "execute_result",
          "data": {
            "text/plain": [
              "' президент россии владимир путин представил нового главу мчс александра куренкова рассказав что он начинал свой профессиональный путь рядовым сотрудником в органах госбезопасности не является карьеристом в плохом смысле слова а наоборот служака умеющий досконально погружаться в свое делодобрый день уважаемые товарищи сегодня представляю вам нового министра по чрезвычайным ситуациям александра вячеславовича куренкова александр вячеславович начал свою деятельность рядовым сотрудником в органах государственной безопасности затем длительное время также работал в федеральной службе охраны последнее место работы  заместитель директора федеральной службы войск национальной гвардии  сказал путин в центре управления в кризисных ситуациях мчспрезидент отметил что теперь куренков поднимется на еще одну ступеньку в своей профессиональной карьерено александр вячеславович не карьерист в плохом смысле слова а наоборот он служака знает то дело за которое берется досконально умеет погружаться умеет будучи человеком зрелым выстроить отношения в коллективе я уверен так произойдет и в руководящем звене министерства по чрезвычайным ситуациям и в министерстве в целом опираясь при этом конечно на профессионалов  сказал путинкандидатура куренкова была внесена в совфед президентом рф он занимал должность замдиректора росгвардии в среду на заседании совфед проголосовал за утверждение куренкова на посту главы мчс позже путин подписал указ о его назначениипредыдущий глава ведомства евгений зиничев погиб 8 сентября 2021 года на учениях в норильске пытаясь спасти кинорежиссера александра мельника зиничеву было 55 лет пост главы мчс он занял в 2018 году посмертно ему было присвоено звание героя россии'"
            ],
            "application/vnd.google.colaboratory.intrinsic+json": {
              "type": "string"
            }
          },
          "metadata": {},
          "execution_count": 292
        }
      ]
    },
    {
      "cell_type": "code",
      "source": [
        "rec_texts[1]"
      ],
      "metadata": {
        "colab": {
          "base_uri": "https://localhost:8080/",
          "height": 70
        },
        "id": "2SZNa6xMYBvw",
        "outputId": "48d1590b-6fe2-42cb-f5be-99c81262d6fd"
      },
      "execution_count": 293,
      "outputs": [
        {
          "output_type": "execute_result",
          "data": {
            "text/plain": [
              "' в ближайших планах разговора президента рф владимира путина с президентом сербии александром вучичем пока нет но при необходимости он может состояться заявил пресссекретарь главы российского государства дмитрий песковпрезидент сербии александр вучич ранее заявил в эфире tv pink что надеется на переговоры 2426 мая с российским лидером владимиром путиным о поставках газа по его словам белград заполнит объемы в хранилищах в венгрии в ожидании поставок из рфпока в ближайшие дни нет в графике разговора но это не значит что очень оперативно такой разговор не может быть в графике вы знаете что контакты с белградом для нас приоритетные они союзнические дружеские поэтому при необходимости они будут проведены  сказал песков отвечая на вопрос есть ли у путина в графике телефонный разговор с вучичем'"
            ],
            "application/vnd.google.colaboratory.intrinsic+json": {
              "type": "string"
            }
          },
          "metadata": {},
          "execution_count": 293
        }
      ]
    },
    {
      "cell_type": "code",
      "source": [
        "source_id  = 140 \n",
        "recs = get_recommendations(source_id)\n",
        "rec_ids = recs.index.values\n",
        "source_text = df_corpus.loc[[source_id]].source_text.values\n",
        "rec_texts =  df_corpus.loc[rec_ids].source_text.values\n",
        "source_text"
      ],
      "metadata": {
        "colab": {
          "base_uri": "https://localhost:8080/"
        },
        "id": "lMU4Ez5nZI45",
        "outputId": "51089e71-1354-40de-e3a3-025b68bb1ff4"
      },
      "execution_count": 294,
      "outputs": [
        {
          "output_type": "execute_result",
          "data": {
            "text/plain": [
              "array([' александр скворцов на счету которого три космических полета уходит из российского отряда космонавтов сообщили в пятницу в роскосмосеалександр скворцов завершает свою деятельность в отряде космонавтов роскосмоса\\u200d  говорится в сообщении госкорпорации в telegramв роскосмосе напомнили что скворцов совершил три космических полёта общей продолжительностью 546 суток и два раза работал в открытом космосеза время работы на международной космической станции космонавт провёл десятки экспериментов из разных областей науки скворцов работал с российскими и иностранными грузовыми кораблями проводил обслуживание бортовых систем мкс фото и видеосъёмкуименно скворцов в августесентябре 2019 года стал первым кто в космосе поработал оператором антропоморфного робота fedor вместе с другим космонавтом алексеем овчининым они включили робота и дали ему поработать руками с отверткой ключами и состыковать электрические соединители а также включать дрель и протирать руки полотенцем кроме того космонавты устроили допрос федору в ходе которого робот ответил на более чем 30 вопросовпервые два полета скворцов совершил в 2010 и 2014 годах'],\n",
              "      dtype=object)"
            ]
          },
          "metadata": {},
          "execution_count": 294
        }
      ]
    },
    {
      "cell_type": "code",
      "source": [
        "rec_texts[0]"
      ],
      "metadata": {
        "colab": {
          "base_uri": "https://localhost:8080/",
          "height": 87
        },
        "id": "93FH5iWlbPF-",
        "outputId": "0c8237b4-254e-4db9-fdb3-003496c9829f"
      },
      "execution_count": 295,
      "outputs": [
        {
          "output_type": "execute_result",
          "data": {
            "text/plain": [
              "' капсула космического корабля crew dragon с экипажем из четырех человек приводнилась в атлантическом океане вернувшись с международной космической станции мкс наса ведет прямую трансляциюкапсула коснулась поверхности океана в районе побережья флориды в 0743 мск в пятницу в ней на землю вернулись астронавты наса том маршберн раджа чари и кайла бэррон а также немецкий астронавт маттиас маурер они находились на мкс в составе третьей рабочей миссии корабля crew dragon crew3 с ноября прошлого года корабль с астронавтами покинул орбитальную станцию в четверг его возвращение заняло около сутоквскоре после приводнения специалисты компании spacex которой принадлежит космический корабль приступили к извлечению капсулы и доставке экипажа на берегпосле возвращения crew3 на мкс остаются россияне олег артемьев командир станции сергей корсаков и денис матвеев американцы челл линдгрен боб хайнс и джессика уоткинс итальянка саманта кристофоретти'"
            ],
            "application/vnd.google.colaboratory.intrinsic+json": {
              "type": "string"
            }
          },
          "metadata": {},
          "execution_count": 295
        }
      ]
    }
  ]
}